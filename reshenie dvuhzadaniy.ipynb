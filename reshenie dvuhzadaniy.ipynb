{
  "cells": [
    {
      "cell_type": "markdown",
      "source": [
        "# Задание1(30 баллов)\n",
        "Независимые наблюдения нормально распределенной случайной величины X, описывающей логарифмическую доходность определенного финансового актива:\n",
        "\n",
        "{NA; -248.0278; -276.0175; NA; -212.0006; -268.2976; NA; -231.3119; -197.912; -215.7413; -250.642; -220.5284; NA; NA; -242.2857; -246.5505; -214.4641; NA; -203.7093; -279.0159; -211.8785; -49.4419375000002; NA; -262.8364; -245.2903; NA; -215.1243; -251.4699; -221.7703; -209.7999; -246.8239; NA; -227.4166; -214.4409; -216.5032; -238.49; -242.4141; -274.4896; -220.7811; -221.8839; -230.4548; NA; -197.128; -258.3113; -224.7547; -265.6689; -234.5814; -256.0479; -206.5416; -204.9552; -271.2617; -236.6249; -213.9544; -241.7048; -244.5088; -277.764; -223.1571; -221.5657; -221.3712; NA; -251.1042; -240.3643; -195.9329; -271.6931; NA; -224.7657; -230.9118; -215.7749; -261.4521; -218.9398; -204.6412; -235.0248; -217.8646; -199.3423; -221.2092; -229.623; -242.6123; -229.0925; -213.9702; NA; -232.589; -264.9929; NA; -224.6155; -205.9726; -258.7099; -248.5855; NA; -228.2618; -205.2476; -275.622; -239.5357; -253.7256; -233.7747; NA; -220.4415; -230.2611; -235.0488; -242.9187; -222.0454; -218.7288; -268.186; -223.4011; NA; -210.5623; -217.6816; -236.2901; NA; -214.4802; -224.3734; -195.4733; -232.7526; -240.7299; -246.011; -238.7477; -235.8953; NA; NA; -180.4088; NA; -230.5308; -268.0138; -214.3368; -264.0056; -193.8945; -225.9057; -200.886; -219.7275; NA; -177.284; -224.7232; -258.5088; -244.3543; -222.2523; -205.1324; -211.6798; -241.3391; -237.4306; -228.4085; -226.4714; -229.3886; -222.4233; -238.0757; -195.788; NA; -256.4004; -199.6616; -235.6713; -250.9459; -230.2045; -215.1507; -265.8123; -224.9502; -258.7678; -213.3911; -231.4672; -196.1238; -208.6528; -230.4714; -273.7412; -192.9082; -267.0167; -244.4736; NA; -260.0262; -240.9879; -233.8253; -247.1632; -220.5742; -187.4717; -248.9057; NA; NA; -349.5041875; -237.2952; NA; -280.5154; -244.8634; -208.6032; -79.4481625000001; -211.1061; -231.7734; -203.7882; -269.69; -211.5684; -210.656; -238.9506; -235.8595; -235.0722; -245.5922; -276.6558; -211.3103; -230.8537; NA; -250.8397; -241.2494; NA; -197.6652; -220.8453; -236.977; -215.7695; NA; -236.1103; -242.5679; -232.3741; -251.3795; -236.3643; -218.7777; -233.0242; -271.6865; NA; NA; -241.7763; -202.76; -227.9378; -203.446; -248.5608; -224.928; -197.5271; -281.7362; -226.669; -240.559; -197.7924; NA; -249.6659; -214.9174; -250.2051; -230.6023; NA; NA; -211.4023; -248.4019; -238.787; NA; -188.4151; -222.2636; -221.1485; -221.9967; -228.9072; -232.6161; -241.741; -213.232; -208.1551; -214.3564; -219.8447; -223.4235; NA; -227.8187; -234.5629; -225.1414; -210.4707; -239.0968; -220.2137; -203.5226; -214.5777; NA; -213.9617; -240.2094; -254.4675; -256.271; NA; -180.2061; -241.3937; -229.0612; -187.9661; NA; -221.3916; -197.5445; -246.8638; -236.1858; NA; NA; -257.3654; -251.6351; -212.6862; -208.0422; -211.7181; -229.8571; -244.787; -242.2795; -205.2843; -258.5773; -226.1781; NA; -217.9504; -172.6741; -230.2364; -196.1476; -255.0827; -246.0399; -255.0632; -241.1097; -219.5709; -210.8271; -202.9631; -215.2989; -253.3749; -216.2569; -207.2811; -319.4979625}.\n",
        "\n",
        "\n",
        "\n",
        "Скопируйте и преобразуйте данные выборки в столбец \"A\" на лист \"Лист1\" Excel-файла и, используя Excel или R (RStudio), вычислите требуемые ниже величины:\n",
        "\n",
        "1. Введите объем исходной выборки\n",
        "\n",
        "Очистите исходную выборку от пропусков, обозначенных как \"NA\", преобразуйте её в вариационный ряд и работайте далее с полученным рядом.\n",
        "\n",
        "1. Введите объем очищенной от пропусков выборки\n",
        "\n",
        "2. Введите значение ошибки выборки\n",
        "\n",
        "3. Введите минимальное значение в вариационном ряду\n",
        "\n",
        "4. Введите максимальное значение в вариационном ряду\n",
        "\n",
        "5. Введите первую квартиль\n",
        "\n",
        "6. Введите медиану\n",
        "\n",
        "7. Введите третью квартиль\n",
        "\n",
        "8. Введите среднее значение\n",
        "\n",
        "9. Введите исправленную дисперсию\n",
        "\n",
        "10. Введите стандартное отклонение (несмещенное)\n",
        "\n",
        "11. Введите размах выборки\n",
        "\n",
        "12. Введите эксцесс (формула по умолчанию в Excel)\n",
        "\n",
        "13. Введите коэффициент асимметрии (формула по умолчанию в Excel)\n",
        "\n",
        "14. Введите левую границу 0,9-доверительного интервала для E(X)\n",
        "\n",
        "15. Введите правую границу 0,9-доверительного интервала для E(X)\n",
        "\n",
        "16. Введите нижнюю границу нормы\n",
        "\n",
        "17. Введите левую границу 0,9-доверительного интервала для Var(X)\n",
        "\n",
        "18. Введите правую границу 0,9-доверительного интервала для Var(X)\n",
        "\n",
        "Постройте на новом листе гистограмму частот и диаграмму «ящик с усами» для исходной выборки, очищенной от выбросов.\n",
        "\n",
        "\n",
        "\n"
      ],
      "metadata": {
        "id": "_lBllH5x2AXk"
      },
      "id": "_lBllH5x2AXk"
    },
    {
      "cell_type": "code",
      "execution_count": 144,
      "id": "591bf9b2",
      "metadata": {
        "id": "591bf9b2",
        "ExecuteTime": {
          "start_time": "2024-01-16T21:44:10.186776Z",
          "end_time": "2024-01-16T21:44:10.616078Z"
        }
      },
      "outputs": [],
      "source": [
        "import numpy as np\n",
        "import sympy as sp\n",
        "import scipy.stats as stats\n",
        "from scipy.stats import norm, t, f, chi2, norm,chisquare,chi2_contingency\n",
        "from sklearn.metrics import mean_squared_error\n",
        "import matplotlib.pyplot as plt\n",
        "from scipy.stats import f_oneway\n",
        "import pandas as pd\n",
        "from math import sqrt\n",
        "from scipy.stats import ttest_1samp"
      ]
    },
    {
      "cell_type": "code",
      "execution_count": 145,
      "id": "63176178",
      "metadata": {
        "id": "63176178",
        "ExecuteTime": {
          "start_time": "2024-01-16T21:44:10.188783Z",
          "end_time": "2024-01-16T21:44:10.617079Z"
        }
      },
      "outputs": [],
      "source": [
        "sample_1 = [-241.6, -251, -255.1, -220.5, -216, -213.2, 'NA', -254.6, 'NA', -231.2, -236.8, -253.9, -233.2, -235.6, -246.2, -208.1, -238, -229.7, 'NA', -273.4, -222.7, -133.55, 'NA', -254, -228.3, -221.6, -239.1, -225.5, -243.3, -200.8, -242, -224.5, -227.9, -250.6, -218.2, -206.9, -245.3, -214.1, 'NA', -135.35, -239.6, -213.7, -281, -240, -215, 'NA', -259.6, 'NA', 'NA', 'NA', -241.1, -243.4, -250.1, -248.7, -221.2, 'NA', -225.2, -209.4, -264.7, -212.4, -230.2, -206.3, -259.4, -243.4, -284.2, -203.7, -221.9, -243.2, -269.9, 'NA', -216.2, -228.9, -246.1, -207.3, -208.9, -254.3, -260.4, 'NA', 'NA', -221.8, -238.9, -240.6, 'NA', -249.2, -225.6, -246.7, -277.3, 'NA', -207.8, -223.2, 'NA', -204, -235.6, -220.1, -244.3, -191.4, 'NA', -208.3, -255, 'NA', -245.5, -273, -221.8, -243.2, -218.1, -228.4, -259.1, -236.1, -220.3, -194.1, -232, -242.2, -206.5, -207.2, -265.3, -253.8, -249.9, -206.3, -261, 'NA', -260.2, -230.7, -234.5, -220.9, -214.1, -230.8, -197.2, -224.2, -204, -233.9, -219.2, -253.2, 'NA', -229.9, -233.3, -228.6, -221.7, -249.4, 'NA', 'NA', -252.6, -239.4, -210.4, -246.6, -254.2, 'NA', -209.7, -200.8, -212.4, -209.4, -247.4, -219.7, -224.5, -189.9, -242.5, 'NA', -243.8, -225.6, -257.9, -218.8, -227.3, -216.4, -270.8, -225.7, -237.2, -255.4, -236.4, -255.5, -229.1, -241.5, -235, -276.3, -244.4, 'NA', -234.4, -207.7, -209, -227.2, -236.9, -198.6, -260.5, -214.3, -220.9, -289.1, -252.3, -207.4, -180, -232.9, -218.5, -240.7, -323.85, 'NA', 'NA', -254, -219.3, -221.4, 'NA', -204.2, -197.1, -248, -241, 'NA', -176, -241.2, -210.6, -265.4, -223.4, -231.2, -212.3, -228.4, -228.8, -231.8, -209.9, -228, 'NA', -269, -261.6, -242.7, -217.5, 'NA', -238.8, -235.5, -188.9, 'NA', 'NA', -219.2, -191.4, -221, -274.4, 'NA', -256.9, -229, -228.4, 'NA', 'NA', -257.6, -229, -197.1, -216.9, 'NA', -232.8, -244.9, -223.6, -239.7, -241.9, -211.5, -224.7, -234.8, -262.3, 'NA', -233.7, -217.1, -209.4, -349.85, -226.7, -240.6, -226.4, -227.4, -215, -254.9, 'NA', -192.6, -197.4, -263.1, -190.9, -223.2, -249.8, -220, -203.6, -219.3, -240.1, -248.4, -241.7, -260.7, -187.5, -320.35, 'NA', -252.2, -255.1, -261, -228.1, -247.6, -200.7, -218.4, -218.2, 'NA', -323.15, -257.8, -234.5, 'NA', -204.7, -237.3, -253.9, -259.2, -219, -200.9, -202.1, 'NA', -233.6, -232.5]\n",
        "\n"
      ]
    },
    {
      "cell_type": "markdown",
      "id": "e0523240",
      "metadata": {
        "id": "e0523240"
      },
      "source": [
        "# 0. Введите объем исходной выборки\n"
      ]
    },
    {
      "cell_type": "code",
      "execution_count": 146,
      "id": "ff2cd10d",
      "metadata": {
        "colab": {
          "base_uri": "https://localhost:8080/"
        },
        "id": "ff2cd10d",
        "outputId": "d5e5295e-d008-4c9a-a33c-a378eae77578",
        "ExecuteTime": {
          "start_time": "2024-01-16T21:44:10.199526Z",
          "end_time": "2024-01-16T21:44:10.617079Z"
        }
      },
      "outputs": [
        {
          "output_type": "execute_result",
          "data": {
            "text/plain": [
              "300"
            ]
          },
          "metadata": {},
          "execution_count": 146
        }
      ],
      "source": [
        "len(sample_1)"
      ]
    },
    {
      "cell_type": "markdown",
      "id": "35348c5d",
      "metadata": {
        "id": "35348c5d"
      },
      "source": [
        "# 1. Введите объем очищенной от пропусков выборки"
      ]
    },
    {
      "cell_type": "code",
      "execution_count": 147,
      "id": "0943bca7",
      "metadata": {
        "id": "0943bca7",
        "ExecuteTime": {
          "start_time": "2024-01-16T21:44:10.207625Z",
          "end_time": "2024-01-16T21:44:10.646210Z"
        }
      },
      "outputs": [],
      "source": [
        "sample_1_2 = []\n",
        "for elem in sample_1:\n",
        "    if elem != \"NA\":\n",
        "        sample_1_2.append(elem)\n",
        "sample_1_2 = np.sort(sample_1_2)"
      ]
    },
    {
      "cell_type": "code",
      "execution_count": 148,
      "id": "4b1a0b1a",
      "metadata": {
        "colab": {
          "base_uri": "https://localhost:8080/"
        },
        "id": "4b1a0b1a",
        "outputId": "6ecd489a-8e71-4303-e0c9-693a1f3c569d",
        "ExecuteTime": {
          "start_time": "2024-01-16T21:44:10.210632Z",
          "end_time": "2024-01-16T21:44:10.890697Z"
        }
      },
      "outputs": [
        {
          "output_type": "execute_result",
          "data": {
            "text/plain": [
              "257"
            ]
          },
          "metadata": {},
          "execution_count": 148
        }
      ],
      "source": [
        "len(sample_1_2)"
      ]
    },
    {
      "cell_type": "markdown",
      "source": [
        "# 2.Введите значение ошибки выборки"
      ],
      "metadata": {
        "id": "1NcWQHOb27mk"
      },
      "id": "1NcWQHOb27mk"
    },
    {
      "cell_type": "markdown",
      "source": [
        "S = sqrt(1/n ∑[n,i=1] (Xi-‾X)^2)"
      ],
      "metadata": {
        "collapsed": false,
        "id": "uzQpVpIVVnx1"
      },
      "id": "uzQpVpIVVnx1"
    },
    {
      "cell_type": "code",
      "source": [
        "# Оцениваем параметры распределения\n",
        "mean = np.mean(sample_1_2)\n",
        "std = np.std(sample_1_2)\n",
        "\n",
        "# Вычисляем предсказания модели (в данном случае среднее значение)\n",
        "predictions = np.full_like(sample_1_2, mean)\n",
        "\n",
        "# Вычисляем ошибку выборки (в данном случае среднеквадратичное отклонение)\n",
        "error = mean_squared_error(sample_1_2, predictions)\n",
        "print(error)"
      ],
      "metadata": {
        "id": "66BVfRtw2-HZ",
        "ExecuteTime": {
          "start_time": "2024-01-16T21:44:10.238590Z",
          "end_time": "2024-01-16T21:44:10.891697Z"
        },
        "colab": {
          "base_uri": "https://localhost:8080/"
        },
        "outputId": "6f347994-7004-455b-80a0-cc5167416c35"
      },
      "id": "66BVfRtw2-HZ",
      "execution_count": 149,
      "outputs": [
        {
          "output_type": "stream",
          "name": "stdout",
          "text": [
            "657.1999685839301\n"
          ]
        }
      ]
    },
    {
      "cell_type": "markdown",
      "source": [
        "# 3.Введите минимальное значение в вариационном ряду"
      ],
      "metadata": {
        "id": "hqLmxD-K6U1c"
      },
      "id": "hqLmxD-K6U1c"
    },
    {
      "cell_type": "code",
      "source": [
        "print(min(sample_1_2))"
      ],
      "metadata": {
        "colab": {
          "base_uri": "https://localhost:8080/"
        },
        "id": "WXKPD7Oy6YME",
        "outputId": "b432bdbe-9410-4d09-98e3-afd1bf3167ae",
        "ExecuteTime": {
          "start_time": "2024-01-16T21:44:10.248619Z",
          "end_time": "2024-01-16T21:44:10.893695Z"
        }
      },
      "id": "WXKPD7Oy6YME",
      "execution_count": 150,
      "outputs": [
        {
          "output_type": "stream",
          "name": "stdout",
          "text": [
            "-349.85\n"
          ]
        }
      ]
    },
    {
      "cell_type": "markdown",
      "source": [
        "# 4.Введите максимальное значение в вариационном ряду"
      ],
      "metadata": {
        "id": "PTxaPOJk6jsq"
      },
      "id": "PTxaPOJk6jsq"
    },
    {
      "cell_type": "code",
      "source": [
        "print(max(sample_1_2))"
      ],
      "metadata": {
        "colab": {
          "base_uri": "https://localhost:8080/"
        },
        "id": "5K9sVaTP6lgn",
        "outputId": "f30ad3a1-1ea7-4b9e-e9a5-04a72b059ab8",
        "ExecuteTime": {
          "start_time": "2024-01-16T21:44:10.259444Z",
          "end_time": "2024-01-16T21:44:10.894695Z"
        }
      },
      "id": "5K9sVaTP6lgn",
      "execution_count": 151,
      "outputs": [
        {
          "output_type": "stream",
          "name": "stdout",
          "text": [
            "-133.55\n"
          ]
        }
      ]
    },
    {
      "cell_type": "markdown",
      "id": "d09a2dea",
      "metadata": {
        "id": "d09a2dea"
      },
      "source": [
        "# 5. Введите первую квартиль"
      ]
    },
    {
      "cell_type": "code",
      "execution_count": 152,
      "id": "c4b3ab25",
      "metadata": {
        "colab": {
          "base_uri": "https://localhost:8080/"
        },
        "id": "c4b3ab25",
        "outputId": "a44427f3-6e5c-4473-d8ad-7b96f77668e2",
        "ExecuteTime": {
          "start_time": "2024-01-16T21:44:10.269450Z",
          "end_time": "2024-01-16T21:44:10.926711Z"
        }
      },
      "outputs": [
        {
          "output_type": "execute_result",
          "data": {
            "text/plain": [
              "-247.4"
            ]
          },
          "metadata": {},
          "execution_count": 152
        }
      ],
      "source": [
        "np.quantile(sample_1_2, 0.25)"
      ]
    },
    {
      "cell_type": "markdown",
      "id": "72818640",
      "metadata": {
        "id": "72818640"
      },
      "source": [
        "# 6. Введите медиану\n"
      ]
    },
    {
      "cell_type": "code",
      "execution_count": 153,
      "id": "da2f2264",
      "metadata": {
        "colab": {
          "base_uri": "https://localhost:8080/"
        },
        "id": "da2f2264",
        "outputId": "94ba46ea-4006-4424-a9ec-d361fc36a552",
        "ExecuteTime": {
          "start_time": "2024-01-16T21:44:10.280058Z",
          "end_time": "2024-01-16T21:44:10.928713Z"
        }
      },
      "outputs": [
        {
          "output_type": "execute_result",
          "data": {
            "text/plain": [
              "-231.2"
            ]
          },
          "metadata": {},
          "execution_count": 153
        }
      ],
      "source": [
        "np.quantile(sample_1_2, 0.5)"
      ]
    },
    {
      "cell_type": "markdown",
      "id": "18346711",
      "metadata": {
        "id": "18346711"
      },
      "source": [
        "# 7. Введите третью квартиль"
      ]
    },
    {
      "cell_type": "code",
      "execution_count": 154,
      "id": "d98e9c08",
      "metadata": {
        "colab": {
          "base_uri": "https://localhost:8080/"
        },
        "id": "d98e9c08",
        "outputId": "ea25e859-352c-44c3-e955-be82d496e0c9",
        "ExecuteTime": {
          "start_time": "2024-01-16T21:44:10.289935Z",
          "end_time": "2024-01-16T21:44:10.930713Z"
        }
      },
      "outputs": [
        {
          "output_type": "execute_result",
          "data": {
            "text/plain": [
              "-217.5"
            ]
          },
          "metadata": {},
          "execution_count": 154
        }
      ],
      "source": [
        "np.quantile(sample_1_2, 0.75)"
      ]
    },
    {
      "cell_type": "markdown",
      "id": "03e7be92",
      "metadata": {
        "id": "03e7be92"
      },
      "source": [
        "# 8. Введите среднее значение"
      ]
    },
    {
      "cell_type": "code",
      "execution_count": 155,
      "id": "827e1dc1",
      "metadata": {
        "colab": {
          "base_uri": "https://localhost:8080/"
        },
        "id": "827e1dc1",
        "outputId": "06ce0ce0-cb97-462c-c48d-27826ba5edf8",
        "ExecuteTime": {
          "start_time": "2024-01-16T21:44:10.300183Z",
          "end_time": "2024-01-16T21:44:10.941721Z"
        }
      },
      "outputs": [
        {
          "output_type": "execute_result",
          "data": {
            "text/plain": [
              "-232.42879377431905"
            ]
          },
          "metadata": {},
          "execution_count": 155
        }
      ],
      "source": [
        "np.sum(sample_1_2) / len(sample_1_2)"
      ]
    },
    {
      "cell_type": "code",
      "execution_count": 156,
      "id": "5d7f61ad",
      "metadata": {
        "colab": {
          "base_uri": "https://localhost:8080/"
        },
        "id": "5d7f61ad",
        "outputId": "18be7b7e-c99d-47f0-9eac-2a89491cbb57",
        "ExecuteTime": {
          "start_time": "2024-01-16T21:44:10.303696Z",
          "end_time": "2024-01-16T21:44:10.945723Z"
        }
      },
      "outputs": [
        {
          "output_type": "stream",
          "name": "stdout",
          "text": [
            "-232.42879377431905\n"
          ]
        }
      ],
      "source": [
        "mean_val = np.mean(sample_1_2)\n",
        "print(mean_val)"
      ]
    },
    {
      "cell_type": "markdown",
      "id": "6a77cbfa",
      "metadata": {
        "id": "6a77cbfa"
      },
      "source": [
        "# 9. Введите исправленную дисперсию\n",
        "S^2^ = 1/(n-1)*∑[n,i=1] (Xi-‾X)^2)"
      ]
    },
    {
      "cell_type": "code",
      "execution_count": 157,
      "id": "111a9d69",
      "metadata": {
        "colab": {
          "base_uri": "https://localhost:8080/"
        },
        "id": "111a9d69",
        "outputId": "3e1e8e89-f02a-408d-8683-af1f6993e7b3",
        "ExecuteTime": {
          "start_time": "2024-01-16T21:44:10.310350Z",
          "end_time": "2024-01-16T21:44:10.945723Z"
        }
      },
      "outputs": [
        {
          "output_type": "execute_result",
          "data": {
            "text/plain": [
              "659.7671559612111"
            ]
          },
          "metadata": {},
          "execution_count": 157
        }
      ],
      "source": [
        "np.sum((sample_1_2 - mean_val) ** 2) / (len(sample_1_2) - 1)"
      ]
    },
    {
      "cell_type": "code",
      "execution_count": 158,
      "id": "0037b03c",
      "metadata": {
        "colab": {
          "base_uri": "https://localhost:8080/"
        },
        "id": "0037b03c",
        "outputId": "fccab0e8-da1e-474f-f3ee-facdbdc82e2a",
        "ExecuteTime": {
          "start_time": "2024-01-16T21:44:10.315062Z",
          "end_time": "2024-01-16T21:44:10.946721Z"
        }
      },
      "outputs": [
        {
          "output_type": "execute_result",
          "data": {
            "text/plain": [
              "659.7671559612111"
            ]
          },
          "metadata": {},
          "execution_count": 158
        }
      ],
      "source": [
        "np.var(sample_1_2, ddof=1)"
      ]
    },
    {
      "cell_type": "markdown",
      "id": "b3124a94",
      "metadata": {
        "id": "b3124a94"
      },
      "source": [
        "# 10. Введите стандартное отклонение (несмещенное)"
      ]
    },
    {
      "cell_type": "code",
      "execution_count": 159,
      "id": "44f194c1",
      "metadata": {
        "colab": {
          "base_uri": "https://localhost:8080/",
          "height": 53
        },
        "id": "44f194c1",
        "outputId": "f1ff9817-5cf9-4e30-f88f-b01a91f8f3d2",
        "ExecuteTime": {
          "start_time": "2024-01-16T21:44:10.319565Z",
          "end_time": "2024-01-16T21:44:10.946721Z"
        }
      },
      "outputs": [
        {
          "output_type": "stream",
          "name": "stdout",
          "text": [
            "25.685933036609963\n"
          ]
        },
        {
          "output_type": "execute_result",
          "data": {
            "text/plain": [
              "'P.S.: Стандартное отклонение это корень из дисперсии'"
            ],
            "application/vnd.google.colaboratory.intrinsic+json": {
              "type": "string"
            }
          },
          "metadata": {},
          "execution_count": 159
        }
      ],
      "source": [
        "print((np.var(sample_1_2, ddof=1)) ** (1 / 2))\n",
        "\n",
        "'''P.S.: Стандартное отклонение это корень из дисперсии'''"
      ]
    },
    {
      "cell_type": "markdown",
      "source": [
        "# 11.Введите размах выборки"
      ],
      "metadata": {
        "id": "Bi4iws6JByJZ"
      },
      "id": "Bi4iws6JByJZ"
    },
    {
      "cell_type": "markdown",
      "source": [
        "max-min"
      ],
      "metadata": {
        "collapsed": false,
        "id": "Ya13prL5Vnx4"
      },
      "id": "Ya13prL5Vnx4"
    },
    {
      "cell_type": "code",
      "execution_count": 160,
      "outputs": [
        {
          "output_type": "execute_result",
          "data": {
            "text/plain": [
              "216.3"
            ]
          },
          "metadata": {},
          "execution_count": 160
        }
      ],
      "source": [
        "np.ptp(sample_1_2)"
      ],
      "metadata": {
        "ExecuteTime": {
          "start_time": "2024-01-16T21:44:10.345098Z",
          "end_time": "2024-01-16T21:44:10.947723Z"
        },
        "colab": {
          "base_uri": "https://localhost:8080/"
        },
        "id": "L73ZFembVnx4",
        "outputId": "4c583b9a-a805-4ef5-e7d2-3daaf0d117bf"
      },
      "id": "L73ZFembVnx4"
    },
    {
      "cell_type": "markdown",
      "source": [
        "# 12.Введите эксцесс"
      ],
      "metadata": {
        "id": "erTKDPIiCLiu"
      },
      "id": "erTKDPIiCLiu"
    },
    {
      "cell_type": "markdown",
      "source": [
        "Эксцесс = (1/n) * Σ((xᵢ - μ)⁴) / σ⁴ - 3\n",
        "\n",
        "где:\n",
        "- n - количество элементов в выборке\n",
        "- xᵢ - каждый элемент выборки\n",
        "- μ - среднее значение выборки\n",
        "- σ - стандартное отклонение выборки\n",
        "- Σ - сумма"
      ],
      "metadata": {
        "collapsed": false,
        "id": "q5nLDOoLVnx4"
      },
      "id": "q5nLDOoLVnx4"
    },
    {
      "cell_type": "code",
      "source": [
        "stats.kurtosis(sample_1_2)"
      ],
      "metadata": {
        "colab": {
          "base_uri": "https://localhost:8080/"
        },
        "id": "6eA3TfacCSq5",
        "outputId": "d80e583d-ab77-446f-f9d1-29dd919de497",
        "ExecuteTime": {
          "start_time": "2024-01-16T21:44:10.365742Z",
          "end_time": "2024-01-16T21:44:10.948869Z"
        }
      },
      "id": "6eA3TfacCSq5",
      "execution_count": 161,
      "outputs": [
        {
          "output_type": "execute_result",
          "data": {
            "text/plain": [
              "3.339027250440994"
            ]
          },
          "metadata": {},
          "execution_count": 161
        }
      ]
    },
    {
      "cell_type": "markdown",
      "source": [
        "# 13 Введите коэффициент асимметрии"
      ],
      "metadata": {
        "id": "8Np2xNd6CxAg"
      },
      "id": "8Np2xNd6CxAg"
    },
    {
      "cell_type": "markdown",
      "source": [
        "=СКОС в Excel"
      ],
      "metadata": {
        "collapsed": false,
        "id": "CNyeWLgrVnx5"
      },
      "id": "CNyeWLgrVnx5"
    },
    {
      "cell_type": "code",
      "source": [
        "stats.skew(sample_1_2)"
      ],
      "metadata": {
        "colab": {
          "base_uri": "https://localhost:8080/"
        },
        "id": "KPPYKUzMCzll",
        "outputId": "bb724d56-b95b-4219-c32b-60efa3f32bac",
        "ExecuteTime": {
          "start_time": "2024-01-16T21:44:10.394539Z",
          "end_time": "2024-01-16T21:44:10.950869Z"
        }
      },
      "id": "KPPYKUzMCzll",
      "execution_count": 162,
      "outputs": [
        {
          "output_type": "execute_result",
          "data": {
            "text/plain": [
              "-0.4157650910334437"
            ]
          },
          "metadata": {},
          "execution_count": 162
        }
      ]
    },
    {
      "cell_type": "markdown",
      "id": "2da13e5f",
      "metadata": {
        "id": "2da13e5f"
      },
      "source": [
        "# 14. Введите левую границу 0,9-доверительного интервала для E(X)"
      ]
    },
    {
      "cell_type": "code",
      "execution_count": 163,
      "id": "5f4c6a9d",
      "metadata": {
        "colab": {
          "base_uri": "https://localhost:8080/",
          "height": 87
        },
        "id": "5f4c6a9d",
        "outputId": "f0b3af53-209f-488a-9f25-aa031c4634d0",
        "ExecuteTime": {
          "start_time": "2024-01-16T21:44:10.408997Z",
          "end_time": "2024-01-16T21:44:10.963868Z"
        }
      },
      "outputs": [
        {
          "output_type": "execute_result",
          "data": {
            "text/plain": [
              "'- norm.isf(0) вернет значение, соответствующее вероятности попадания весьма крайнего значения случайной величины, что в случае нормального распределения равно минус бесконечности.\\n- norm.isf(1) вернет значение, соответствующее вероятности попадания случайной величины в границы распределения, что в случае нормального распределения также равно минус бесконечности.\\n- norm.isf(1/2) вернет значение, соответствующее медиане нормального распределения, что в данном случае будет равно 0.'"
            ],
            "application/vnd.google.colaboratory.intrinsic+json": {
              "type": "string"
            }
          },
          "metadata": {},
          "execution_count": 163
        }
      ],
      "source": [
        "norm.isf(0), norm.isf(1), norm.isf(1 / 2)\n",
        "'''- norm.isf(0) вернет значение, соответствующее вероятности попадания весьма крайнего значения случайной величины, что в случае нормального распределения равно минус бесконечности.\n",
        "- norm.isf(1) вернет значение, соответствующее вероятности попадания случайной величины в границы распределения, что в случае нормального распределения также равно минус бесконечности.\n",
        "- norm.isf(1/2) вернет значение, соответствующее медиане нормального распределения, что в данном случае будет равно 0.'''"
      ]
    },
    {
      "cell_type": "code",
      "execution_count": 164,
      "id": "9f3fbdd9",
      "metadata": {
        "id": "9f3fbdd9",
        "ExecuteTime": {
          "start_time": "2024-01-16T21:44:10.414442Z",
          "end_time": "2024-01-16T21:44:10.964867Z"
        }
      },
      "outputs": [],
      "source": [
        "gamma = 0.9  #мы устанавливаем уровень значимости на уровне 0.99.\n",
        "alpha = 1 - gamma  #мы вычисляем уровень доверия, который в данном случае будет равен 0.1.\n",
        "n = len(sample_1_2)  #размер выборки."
      ]
    },
    {
      "cell_type": "code",
      "execution_count": 165,
      "id": "94ad7bc8",
      "metadata": {
        "id": "94ad7bc8",
        "ExecuteTime": {
          "start_time": "2024-01-16T21:44:10.417952Z",
          "end_time": "2024-01-16T21:44:10.964867Z"
        }
      },
      "outputs": [],
      "source": [
        "t_a_2 = t.isf(alpha / 2,\n",
        "              n - 1)  #используем функцию обратного накопленного распределения t-распределения, чтобы найти критическое значение для заданного уровня значимости и размера выборки."
      ]
    },
    {
      "cell_type": "code",
      "execution_count": 166,
      "id": "db38bd54",
      "metadata": {
        "id": "db38bd54",
        "ExecuteTime": {
          "start_time": "2024-01-16T21:44:10.424018Z",
          "end_time": "2024-01-16T21:44:10.964867Z"
        }
      },
      "outputs": [],
      "source": [
        "I_E_1 = mean_val - t_a_2 * (np.var(sample_1_2, ddof=1)) ** (1 / 2) / n ** (\n",
        "            1 / 2)  # мы вычисляем нижний предел доверительного интервала для среднего значения.\n",
        "I_E_2 = mean_val + t_a_2 * (np.var(sample_1_2, ddof=1)) ** (1 / 2) / n ** (\n",
        "            1 / 2)  #мы вычисляем верхний предел доверительного интервала для среднего значения."
      ]
    },
    {
      "cell_type": "code",
      "execution_count": 167,
      "id": "6aead83b",
      "metadata": {
        "id": "6aead83b",
        "outputId": "bb8b4b52-0f0a-4601-9e26-b68940d2349e",
        "ExecuteTime": {
          "start_time": "2024-01-16T21:44:10.427528Z",
          "end_time": "2024-01-16T21:44:10.966866Z"
        },
        "colab": {
          "base_uri": "https://localhost:8080/"
        }
      },
      "outputs": [
        {
          "output_type": "execute_result",
          "data": {
            "text/plain": [
              "-235.0738231527813"
            ]
          },
          "metadata": {},
          "execution_count": 167
        }
      ],
      "source": [
        "I_E_1  #вычисление нижнего предела доверительного интервала"
      ]
    },
    {
      "cell_type": "markdown",
      "id": "6dcf84ab",
      "metadata": {
        "id": "6dcf84ab"
      },
      "source": [
        "# 15. Введите правую границу 0,9-доверительного интервала для E(X)"
      ]
    },
    {
      "cell_type": "code",
      "execution_count": 168,
      "id": "ff43601a",
      "metadata": {
        "id": "ff43601a",
        "outputId": "f65c20c8-48b9-4f22-972a-932e2ac1c0f2",
        "ExecuteTime": {
          "start_time": "2024-01-16T22:16:10.407061Z",
          "end_time": "2024-01-16T22:16:10.414656Z"
        },
        "colab": {
          "base_uri": "https://localhost:8080/"
        }
      },
      "outputs": [
        {
          "output_type": "execute_result",
          "data": {
            "text/plain": [
              "-229.7837643958568"
            ]
          },
          "metadata": {},
          "execution_count": 168
        }
      ],
      "source": [
        "I_E_2"
      ]
    },
    {
      "cell_type": "markdown",
      "source": [
        "# 16. Введите нижнюю границу нормы"
      ],
      "metadata": {
        "id": "mNxV8YVSDTF3"
      },
      "id": "mNxV8YVSDTF3"
    },
    {
      "cell_type": "code",
      "source": [
        "mean = np.mean(sample_1_2)\n",
        "std = np.std(sample_1_2)\n",
        "\n",
        "lower_bound = mean - (std/2)\n",
        "upper_bound = mean + (std/2)\n",
        "\n",
        "print(lower_bound, upper_bound)"
      ],
      "metadata": {
        "colab": {
          "base_uri": "https://localhost:8080/"
        },
        "id": "I64GIIaQDVEZ",
        "outputId": "4caa3f64-24bc-457e-fba9-ca895df50c7a",
        "ExecuteTime": {
          "start_time": "2024-01-16T22:30:11.204696Z",
          "end_time": "2024-01-16T22:30:11.212216Z"
        }
      },
      "id": "I64GIIaQDVEZ",
      "execution_count": 169,
      "outputs": [
        {
          "output_type": "stream",
          "name": "stdout",
          "text": [
            "-245.24674962328274 -219.61083792535536\n"
          ]
        }
      ]
    },
    {
      "cell_type": "markdown",
      "id": "f99c1a26",
      "metadata": {
        "id": "f99c1a26"
      },
      "source": [
        "# 17. Введите левую границу 0,9- доверительного интервала для Var(X)"
      ]
    },
    {
      "cell_type": "code",
      "execution_count": 170,
      "id": "b71fd6d5",
      "metadata": {
        "id": "b71fd6d5",
        "ExecuteTime": {
          "start_time": "2024-01-16T21:46:35.287104Z",
          "end_time": "2024-01-16T21:46:35.295229Z"
        },
        "colab": {
          "base_uri": "https://localhost:8080/",
          "height": 35
        },
        "outputId": "4e80a558-c8d5-499b-b54f-59e060b65d1c"
      },
      "outputs": [
        {
          "output_type": "execute_result",
          "data": {
            "text/plain": [
              "' Эта строка кода вычисляет критическое значение для правого конца интервала доверия для дисперсии.'"
            ],
            "application/vnd.google.colaboratory.intrinsic+json": {
              "type": "string"
            }
          },
          "metadata": {},
          "execution_count": 170
        }
      ],
      "source": [
        "chi2_a_2_z_1 = chi2.isf(alpha / 2, n - 1)\n",
        "'''функция вычисления обратной функции выживания для распределения хи-квадрат.\n",
        "Эта строка кода вычисляет критическое значение для левого конца интервала доверия для дисперсии.\n",
        "alpha обычно представляет собой уровень значимости,\n",
        " а n-1 - количество степеней свободы (здесь n - размер выборки).'''\n",
        "chi2_a_2_z_2 = chi2.isf(1 - alpha / 2, n - 1)\n",
        "''' Эта строка кода вычисляет критическое значение для правого конца интервала доверия для дисперсии.'''\n",
        "\n"
      ]
    },
    {
      "cell_type": "code",
      "execution_count": 171,
      "id": "84acb480",
      "metadata": {
        "id": "84acb480",
        "ExecuteTime": {
          "start_time": "2024-01-16T21:44:10.455947Z",
          "end_time": "2024-01-16T21:44:10.972496Z"
        }
      },
      "outputs": [],
      "source": [
        "I_D_1 = (n - 1) * np.var(sample_1_2,\n",
        "                         ddof=1) / chi2_a_2_z_1  #Эта строка кода использует первое критическое значение для вычисления левой границы интервала для дисперсии."
      ]
    },
    {
      "cell_type": "code",
      "execution_count": 172,
      "id": "9e6b8acb",
      "metadata": {
        "id": "9e6b8acb",
        "ExecuteTime": {
          "start_time": "2024-01-16T21:44:10.459812Z",
          "end_time": "2024-01-16T21:44:10.972496Z"
        }
      },
      "outputs": [],
      "source": [
        "I_D_2 = (n - 1) * np.var(sample_1_2,\n",
        "                         ddof=1) / chi2_a_2_z_2  #Эта строка кода использует второе критическое значение для вычисления правой границы интервала для дисперсии."
      ]
    },
    {
      "cell_type": "code",
      "execution_count": 173,
      "id": "de4a5afa",
      "metadata": {
        "colab": {
          "base_uri": "https://localhost:8080/"
        },
        "id": "de4a5afa",
        "outputId": "668f9863-b028-44ab-e6cf-b0b308e41b1b",
        "ExecuteTime": {
          "start_time": "2024-01-16T21:44:10.463323Z",
          "end_time": "2024-01-16T21:44:10.991497Z"
        }
      },
      "outputs": [
        {
          "output_type": "execute_result",
          "data": {
            "text/plain": [
              "573.8652081973305"
            ]
          },
          "metadata": {},
          "execution_count": 173
        }
      ],
      "source": [
        "I_D_1"
      ]
    },
    {
      "cell_type": "markdown",
      "id": "27aa3a84",
      "metadata": {
        "id": "27aa3a84"
      },
      "source": [
        "# 18. Введите правую границу 0,9-доверительного интервала для Var(X)"
      ]
    },
    {
      "cell_type": "code",
      "execution_count": 174,
      "id": "b9cd494e",
      "metadata": {
        "colab": {
          "base_uri": "https://localhost:8080/"
        },
        "id": "b9cd494e",
        "outputId": "ed56e0cc-9d01-4767-e829-bc66d7f488b0",
        "ExecuteTime": {
          "start_time": "2024-01-16T21:44:10.467885Z",
          "end_time": "2024-01-16T21:44:10.992496Z"
        }
      },
      "outputs": [
        {
          "output_type": "execute_result",
          "data": {
            "text/plain": [
              "767.8951102017513"
            ]
          },
          "metadata": {},
          "execution_count": 174
        }
      ],
      "source": [
        "I_D_2"
      ]
    },
    {
      "cell_type": "markdown",
      "source": [
        "# Постройте на новом листе гистограмму частот и диаграмму «ящик с усами» для исходной выборки, очищенной от выбросов."
      ],
      "metadata": {
        "collapsed": false,
        "id": "L5MAlyYoVnx8"
      },
      "id": "L5MAlyYoVnx8"
    },
    {
      "cell_type": "code",
      "execution_count": 175,
      "outputs": [
        {
          "output_type": "display_data",
          "data": {
            "text/plain": [
              "<Figure size 640x480 with 1 Axes>"
            ],
            "image/png": "[encoded data removed]"
          },
          "metadata": {}
        },
        {
          "output_type": "display_data",
          "data": {
            "text/plain": [
              "<Figure size 640x480 with 1 Axes>"
            ],
            "image/png": "[encoded data removed]"
          },
          "metadata": {}
        }
      ],
      "source": [
        "\n",
        "plt.hist(sample_1_2, bins=10)\n",
        "plt.title(\"Гистограмма частот\")\n",
        "plt.xlabel(\"Значение\")\n",
        "plt.ylabel(\"Частота\")\n",
        "plt.show()\n",
        "\n",
        "plt.boxplot(sample_1_2, showfliers=False)\n",
        "plt.title(\"Диаграмма «ящик с усами»\")\n",
        "plt.ylabel(\"Значение\")\n",
        "plt.show()\n"
      ],
      "metadata": {
        "ExecuteTime": {
          "start_time": "2024-01-16T21:44:10.490569Z",
          "end_time": "2024-01-16T21:44:11.013493Z"
        },
        "colab": {
          "base_uri": "https://localhost:8080/",
          "height": 907
        },
        "id": "qaDdg8ewVnx8",
        "outputId": "425e68b5-9b4b-4bc3-92b2-5e829fe452c6"
      },
      "id": "qaDdg8ewVnx8"
    },
    {
      "cell_type": "markdown",
      "source": [
        "# Задание 2"
      ],
      "metadata": {
        "collapsed": false,
        "id": "DKutKOdZVnx8"
      },
      "id": "DKutKOdZVnx8"
    },
    {
      "cell_type": "markdown",
      "source": [
        "По результатам социологического исследования ответы респондентов на определенный вопрос анкеты представлены в виде выборки:\n",
        "{Four; Five; Two; One; Two; NA; Four; Two; Thr; Five; One; Five; Two; One; One; NA; One; Two; Five; Two; One; Two; One; NA; One; Two; Two; Two; Two; Four; Five; Two; One; Thr; Thr; Two; One; Thr; Two; Two; Four; One; Two; NA; One; Two; Two; One; Thr; Two; One; One; One; Two; Four; Four; One; Two; NA; Two; Four; Two; Two; One; Five; One; Two; Five; One; NA; Two; One; Two; Two; Thr; NA; Thr; Two; Two; Thr; Two; Five; One; Four; Two; Two; One; Thr; NA; Two; Two; Five; Four; Thr; Five; Four; One; Two; Four; Thr; Five; Thr; Four; Two; NA; Two; Thr; One; Two; Two; One; Two; NA; Two; One; Two; Four; Thr; One; One; NA; Thr; One; Five; One; NA; Five; Four; Two; Two; One; Four; Five; Five; One; Thr; Four; Two; NA; Four; One; One; Two; Five; Two; Thr; One; Two; Two; Two; Two; Four; One; NA; Two; Four; Two; One; Thr; NA; Two; Five; Two; Four; Five; Two; Two; Two; One; Two; Thr; One; Five; One; Two; Two; Two; Two; One; Two; Two; One; Four; Thr; Two; Two; Five; Four; Five; Two; Two; Five; Two; Five; Four; One; Five; One; Thr; Two; NA; One; Two; Two; Four; Five; Two; Five; Two; Two; Two; Four; Two; Five; Two; Two; Thr; One; NA; Two; Two; Thr; One; Five; Two; Five; Four; Two; Thr; Four; One; Two; NA; NA; Five; Four; One; Two; One; Two; Five; Thr; NA; One; One; Two; One; Five; One; Thr; Two; One; Two; One; Five; Four; Four; Two; Five; One; One; NA; One; One; Thr; One; Two; Five; One; Two; Five; One; Two; One; Thr; Two; Four; Thr; Thr; NA; Four; Two; Two; Two; Four; NA; Two; Two; Two; Five; Five; Two; Two; Four; Four; Two; Four; Two; Four; NA}.\n",
        "\n",
        "\n",
        "\n",
        "Скопируйте и преобразуйте в столбец \"A\" данные выборки на новый лист Excel-файла.\n",
        "\n",
        "Используя Excel, очистите выборку от пропусков, обозначенных как \"NA\", и ответьте на следующие ниже вопросы.\n",
        "\n",
        "1. Введите объем очищенной от \"NA\" выборки\n",
        "\n",
        "2. Введите количество различных вариантов ответов респондентов, встречающиеся в очищенной выборке\n",
        "\n",
        "3. Введите количество респондентов, которые дали ответ \"Four\"\n",
        "\n",
        "4. Введите долю респондентов, которые дали ответ \"Four\"\n",
        "\n",
        "5. Введите левую границу 0,9-доверительного интервала для истинной доли \"Five\"\n",
        "\n",
        "6. Введите правую границу 0,9-доверительного интервала для истинной доли ответов \"Four\"\n",
        "\n",
        "7. Постройте на новом листе гистограмму для исходной выборки, очищенной от \"NA\" и выбросов."
      ],
      "metadata": {
        "collapsed": false,
        "id": "Gm9IPvJTVnx9"
      },
      "id": "Gm9IPvJTVnx9"
    },
    {
      "cell_type": "code",
      "execution_count": 176,
      "outputs": [],
      "source": [
        "sample_2 = ['M', 'F', 'Child', 'Child', 'NA', 'F', 'M', 'F', 'Child', 'M', 'F', 'M', 'M', 'F', 'F', 'NA', 'Child', 'Child', 'M', 'M', 'Child', 'M', 'Child', 'Child', 'Child', 'Child', 'NA', 'M', 'Child', 'F', 'Child', 'Child', 'F', 'M', 'M', 'Child', 'F', 'Child', 'F', 'F', 'F', 'M', 'F', 'M', 'F', 'M', 'Child', 'F', 'Child', 'F', 'M', 'F', 'F', 'M', 'Child', 'F', 'Child', 'M', 'F', 'M', 'F', 'Child', 'F', 'Child', 'M', 'M', 'Child', 'F', 'F', 'F', 'M', 'M', 'Child', 'Child', 'M', 'M', 'Child', 'Child', 'F', 'F', 'M', 'Child', 'M', 'F', 'M', 'M', 'M', 'M', 'F', 'F', 'Child', 'Child', 'M', 'NA', 'M', 'F', 'F', 'M', 'NA', 'F', 'F', 'F', 'Child', 'F', 'M', 'Child', 'F', 'M', 'NA', 'M', 'Child', 'Child', 'Child', 'Child', 'Child', 'F', 'Child', 'F', 'M', 'M', 'F', 'Child', 'NA', 'Child', 'M', 'Child', 'Child', 'M', 'M', 'M', 'M', 'F', 'Child', 'F', 'F', 'Child', 'F', 'F', 'Child', 'F', 'Child', 'Child', 'F', 'F', 'F', 'Child', 'Child', 'F', 'Child', 'M', 'F', 'F', 'F', 'F', 'M', 'Child', 'M', 'M', 'Child', 'M', 'F', 'M', 'Child', 'Child', 'NA', 'F', 'F', 'Child', 'Child', 'M', 'Child', 'M', 'M', 'Child', 'Child', 'F', 'M', 'M', 'F', 'M', 'M', 'F', 'F', 'Child', 'F', 'M', 'Child', 'M', 'M', 'F', 'F', 'F', 'Child', 'M', 'F', 'Child', 'Child', 'M', 'M', 'F', 'F', 'M', 'F', 'M', 'M', 'M', 'NA', 'F', 'Child', 'Child', 'F', 'Child', 'Child', 'NA', 'M', 'F', 'Child', 'F', 'Child', 'M', 'Child', 'M', 'Child', 'F', 'F', 'Child', 'F', 'F', 'NA', 'Child', 'M', 'Child', 'NA', 'F', 'Child', 'Child', 'F', 'M', 'F', 'M', 'F', 'M', 'M', 'F', 'F', 'F', 'F', 'M', 'M', 'Child', 'F', 'Child', 'NA', 'Child', 'Child', 'F', 'Child', 'M', 'F', 'F', 'M', 'M', 'Child', 'Child', 'M', 'F', 'Child', 'F', 'F', 'F', 'F', 'M', 'Child', 'M', 'F', 'M', 'Child', 'F', 'NA', 'Child', 'Child', 'Child', 'M', 'NA', 'Child', 'NA', 'Child', 'F', 'M', 'M', 'Child', 'F', 'Child', 'Child', 'F', 'Child', 'M', 'M', 'F', 'Child', 'F', 'Child', 'Child', 'Child', 'M', 'Child', 'F', 'Child', 'NA', 'M', 'NA', 'Child', 'Child', 'M', 'M', 'NA', 'F', 'M', 'Child', 'NA']"
      ],
      "metadata": {
        "ExecuteTime": {
          "start_time": "2024-01-16T21:44:10.623835Z",
          "end_time": "2024-01-16T21:44:11.013493Z"
        },
        "id": "LxxQrdjBVnx9"
      },
      "id": "LxxQrdjBVnx9"
    },
    {
      "cell_type": "markdown",
      "source": [
        "# 1. Введите объем очищенной от \"NA\" выборки"
      ],
      "metadata": {
        "collapsed": false,
        "id": "SdBRrgisVnx9"
      },
      "id": "SdBRrgisVnx9"
    },
    {
      "cell_type": "code",
      "execution_count": 177,
      "id": "2d4900f0",
      "metadata": {
        "id": "2d4900f0",
        "ExecuteTime": {
          "start_time": "2024-01-16T21:44:10.632574Z",
          "end_time": "2024-01-16T21:44:11.013493Z"
        },
        "colab": {
          "base_uri": "https://localhost:8080/"
        },
        "outputId": "9bf580fd-6805-4374-9542-5e103cd94a84"
      },
      "outputs": [
        {
          "output_type": "stream",
          "name": "stdout",
          "text": [
            "300\n"
          ]
        }
      ],
      "source": [
        "sample_2_2 = []\n",
        "for elem in sample_2:\n",
        "    if elem != 'NA':\n",
        "        sample_2_2.append(elem)\n",
        "n = len(sample_2_2)\n",
        "sample_2_2 = np.array(sample_2_2)\n",
        "print(n)"
      ]
    },
    {
      "cell_type": "markdown",
      "source": [
        "# 2. Введите количество различных вариантов ответов респондентов, встречающиеся в очищенной выборке"
      ],
      "metadata": {
        "collapsed": false,
        "id": "QkMfO6v2Vnx9"
      },
      "id": "QkMfO6v2Vnx9"
    },
    {
      "cell_type": "code",
      "execution_count": 178,
      "outputs": [
        {
          "output_type": "stream",
          "name": "stdout",
          "text": [
            "Количество различных вариантов ответов: 3\n"
          ]
        }
      ],
      "source": [
        "# Подсчитываем количество различных вариантов ответов\n",
        "unique_variants = np.unique(sample_2_2)\n",
        "num_variants = len(unique_variants)\n",
        "\n",
        "print(\"Количество различных вариантов ответов:\", num_variants)"
      ],
      "metadata": {
        "ExecuteTime": {
          "start_time": "2024-01-16T21:44:10.638694Z",
          "end_time": "2024-01-16T21:44:11.013493Z"
        },
        "colab": {
          "base_uri": "https://localhost:8080/"
        },
        "id": "qdSaXykvVnx9",
        "outputId": "f272eb48-1555-4fa2-eb84-1fa7f39fbac6"
      },
      "id": "qdSaXykvVnx9"
    },
    {
      "cell_type": "markdown",
      "source": [
        "# 3. Введите количество респондентов, которые дали ответ \"Four\""
      ],
      "metadata": {
        "collapsed": false,
        "id": "LVvidAcjVnx-"
      },
      "id": "LVvidAcjVnx-"
    },
    {
      "cell_type": "code",
      "execution_count": 179,
      "outputs": [
        {
          "output_type": "stream",
          "name": "stdout",
          "text": [
            "Количество респондентов, которые дали ответ 'Four': 103\n"
          ]
        }
      ],
      "source": [
        "# Подсчитываем количество респондентов, которые дали ответ \"Four\"\n",
        "count_four = np.count_nonzero(sample_2_2 == \"F\")\n",
        "\n",
        "print(\"Количество респондентов, которые дали ответ 'Four':\", count_four)"
      ],
      "metadata": {
        "ExecuteTime": {
          "start_time": "2024-01-16T21:44:10.642202Z",
          "end_time": "2024-01-16T21:44:11.013493Z"
        },
        "colab": {
          "base_uri": "https://localhost:8080/"
        },
        "id": "k3MFwh_fVnx-",
        "outputId": "7168c301-6b8f-4723-fb13-167159a5d676"
      },
      "id": "k3MFwh_fVnx-"
    },
    {
      "cell_type": "markdown",
      "source": [
        "# 4. Введите долю респондентов, которые дали ответ \"Four\""
      ],
      "metadata": {
        "collapsed": false,
        "id": "qmAA7R4WVnx-"
      },
      "id": "qmAA7R4WVnx-"
    },
    {
      "cell_type": "code",
      "execution_count": 180,
      "outputs": [
        {
          "output_type": "stream",
          "name": "stdout",
          "text": [
            "Доля респондентов, которые дали ответ \"Four\": 34.33 %\n"
          ]
        }
      ],
      "source": [
        "print('Доля респондентов, которые дали ответ \"Four\":', round(count_four / (n / 100), 2), '%')"
      ],
      "metadata": {
        "ExecuteTime": {
          "start_time": "2024-01-16T21:44:10.645208Z",
          "end_time": "2024-01-16T21:44:11.014492Z"
        },
        "colab": {
          "base_uri": "https://localhost:8080/"
        },
        "id": "CedteRjXVnx-",
        "outputId": "6a0e7c8b-c3a4-4335-b313-7fb16ca5dc94"
      },
      "id": "CedteRjXVnx-"
    },
    {
      "cell_type": "code",
      "source": [
        "from scipy.stats import chi2\n",
        "# Уровень значимости\n",
        "alpha = 0.01\n",
        "# Число степеней свободы\n",
        "df =-1\n",
        "\n",
        "# Находим критическое значение\n",
        "critical_value = chi2.ppf(1 - alpha, df)\n",
        "\n",
        "print(\"Критическое значение статистики хи-квадрат:\", critical_value)"
      ],
      "metadata": {
        "colab": {
          "base_uri": "https://localhost:8080/"
        },
        "id": "1smEjzBjvwxN",
        "outputId": "812078cf-5845-4cda-8aac-35f15506025c"
      },
      "id": "1smEjzBjvwxN",
      "execution_count": 197,
      "outputs": [
        {
          "output_type": "stream",
          "name": "stdout",
          "text": [
            "Критическое значение статистики хи-квадрат: nan\n"
          ]
        }
      ]
    },
    {
      "cell_type": "code",
      "source": [
        "#Наблюдаемое значение хи-квадрат\n",
        "# Подсчитайте частоту каждого уникального значения в выборке\n",
        "frequencies = np.unique(sample_2_2, return_counts=True)[1]\n",
        "\n",
        "# Вычислите χ²\n",
        "# Подсчитайте частоту каждого уникального значения в выборке\n",
        "\n",
        "frequencies = np.unique(sample_2_2, return_counts=True)[1]\n",
        "chi2, p_value = chisquare(frequencies)\n",
        "print(f\"Наблюдаемое значение хи-квадрат: {chi2}\")"
      ],
      "metadata": {
        "colab": {
          "base_uri": "https://localhost:8080/"
        },
        "id": "9Y8RmmUdayz-",
        "outputId": "b65a3cdf-5e28-433f-82f5-f109306e1e38"
      },
      "id": "9Y8RmmUdayz-",
      "execution_count": 181,
      "outputs": [
        {
          "output_type": "stream",
          "name": "stdout",
          "text": [
            "Наблюдаемое значение хи-квадрат: 0.74\n"
          ]
        }
      ]
    },
    {
      "cell_type": "code",
      "source": [
        "\n",
        "frequencies = np.unique(sample_2_2, return_counts=True)[1]\n",
        "chi2, p_value = chisquare(frequencies)\n",
        "\n",
        "\n",
        "#а уровне значимости а=0.01 проверьте критерием согласия(Хи-квадрат критерием пирсона) гипотезу о равновероятном распределении ответов респондентов\n",
        "\n",
        "print(f\"Наблюдаемое значение хи-квадрат: {chi2}\")\n",
        "print(f\"p-значение: {p_value}\")\n",
        "\n",
        "# Проверьте гипотезу на уровне значимости 0.01\n",
        "if p_value < 0.01:\n",
        "    print(\"Отвергаем нулевую гипотезу о равновероятном распределении ответов респондентов\")\n",
        "else:\n",
        "    print(\"Не отвергаем нулевую гипотезу о равновероятном распределении ответов респондентов\")\n"
      ],
      "metadata": {
        "colab": {
          "base_uri": "https://localhost:8080/"
        },
        "id": "zlTyzehBbL4m",
        "outputId": "b8bde7db-7519-4dfd-dbd7-8588b28b7c97"
      },
      "id": "zlTyzehBbL4m",
      "execution_count": 182,
      "outputs": [
        {
          "output_type": "stream",
          "name": "stdout",
          "text": [
            "Наблюдаемое значение хи-квадрат: 0.74\n",
            "p-значение: 0.6907343306373546\n",
            "Не отвергаем нулевую гипотезу о равновероятном распределении ответов респондентов\n"
          ]
        }
      ]
    },
    {
      "cell_type": "markdown",
      "source": [
        "# 5. Введите левую границу 0,9-доверительного интервала для истинной доли \"Five\""
      ],
      "metadata": {
        "collapsed": false,
        "id": "xHADAzCEVnx-"
      },
      "id": "xHADAzCEVnx-"
    },
    {
      "cell_type": "code",
      "execution_count": 183,
      "outputs": [
        {
          "output_type": "stream",
          "name": "stdout",
          "text": [
            "Левая граница 0.9-доверительного интервала для истинной доли 'Five': 0.0\n"
          ]
        }
      ],
      "source": [
        "# (⁀p-Z(a/2)*sqrt((⁀p(1-⁀p))/n); ⁀p+Z(a/2)*sqrt((⁀p(1-⁀p))/n)) ; ⁀p = k/n; Приближённая интервальная оценка для вероятности p с доверительной вероятностью\n",
        "# Подсчитываем количество респондентов, которые дали ответ 'Five'\n",
        "count_five = np.count_nonzero(sample_2_2 == 'Five')\n",
        "\n",
        "# Вычисляем оценку доли для ответа 'Five'\n",
        "p_hat = count_five / n\n",
        "# Вычисляем стандартную ошибку\n",
        "stdev = np.sqrt((p_hat * (1 - p_hat)) / n)\n",
        "\n",
        "# Задаем уровень доверия\n",
        "confidence_level = 0.9\n",
        "\n",
        "# Рассчитываем значение Z-статистики\n",
        "z = norm.ppf(1 - (1 - confidence_level) / 2)\n",
        "\n",
        "# Вычисляем левую границу доверительного интервала для истинной доли \"Five\"\n",
        "left_interval = p_hat - z * stdev\n",
        "\n",
        "print(\"Левая граница 0.9-доверительного интервала для истинной доли 'Five':\", round(left_interval, 2))"
      ],
      "metadata": {
        "ExecuteTime": {
          "start_time": "2024-01-16T21:44:10.651723Z",
          "end_time": "2024-01-16T21:44:11.014492Z"
        },
        "colab": {
          "base_uri": "https://localhost:8080/"
        },
        "id": "vJacnyjuVnx-",
        "outputId": "cd7ddb75-0a35-4378-c213-e69e2165495b"
      },
      "id": "vJacnyjuVnx-"
    },
    {
      "cell_type": "markdown",
      "source": [
        "# 6. Введите правую границу 0,9-доверительного интервала для истинной доли ответов \"Four\""
      ],
      "metadata": {
        "collapsed": false,
        "id": "CIYz9uTRVnx_"
      },
      "id": "CIYz9uTRVnx_"
    },
    {
      "cell_type": "code",
      "execution_count": 184,
      "outputs": [
        {
          "output_type": "stream",
          "name": "stdout",
          "text": [
            "Правая граница 0.9-доверительного интервала для истинной доли 'Four': 0.0\n"
          ]
        }
      ],
      "source": [
        "# Подсчитываем количество респондентов, которые дали ответ 'Four'\n",
        "count_four = np.count_nonzero(sample_2_2 == 'Four')\n",
        "\n",
        "# Вычисляем оценку доли для ответа 'Four'\n",
        "p_hat = count_four / n\n",
        "\n",
        "# Вычисляем стандартную ошибку\n",
        "stdev = np.sqrt((p_hat * (1 - p_hat)) / n)\n",
        "\n",
        "# Задаем уровень доверия\n",
        "confidence_level = 0.9\n",
        "\n",
        "# Рассчитываем значение Z-статистики\n",
        "z = norm.ppf(1 - (1 - confidence_level) / 2)\n",
        "\n",
        "# Вычисляем правую границу доверительного интервала для истинной доли \"Four\"\n",
        "right_interval = p_hat + z * stdev\n",
        "\n",
        "print(\"Правая граница 0.9-доверительного интервала для истинной доли 'Four':\", round(right_interval, 2))"
      ],
      "metadata": {
        "ExecuteTime": {
          "start_time": "2024-01-16T21:44:10.656013Z",
          "end_time": "2024-01-16T21:44:11.014492Z"
        },
        "colab": {
          "base_uri": "https://localhost:8080/"
        },
        "id": "C_EkHgGaVnx_",
        "outputId": "1be76434-b37c-4ec9-9c27-892dcdb92eb0"
      },
      "id": "C_EkHgGaVnx_"
    }
  ],
  "metadata": {
    "kernelspec": {
      "display_name": "Python 3 (ipykernel)",
      "language": "python",
      "name": "python3"
    },
    "language_info": {
      "codemirror_mode": {
        "name": "ipython",
        "version": 3
      },
      "file_extension": ".py",
      "mimetype": "text/x-python",
      "name": "python",
      "nbconvert_exporter": "python",
      "pygments_lexer": "ipython3",
      "version": "3.10.9"
    },
    "colab": {
      "provenance": []
    }
  },
  "nbformat": 4,
  "nbformat_minor": 5
}