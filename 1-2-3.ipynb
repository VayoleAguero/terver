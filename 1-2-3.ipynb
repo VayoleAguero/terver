{
 "cells": [
  {
   "cell_type": "markdown",
   "source": [
    "# Задание1(30 баллов)\n",
    "Независимые наблюдения нормально распределенной случайной величины X, описывающей логарифмическую доходность определенного финансового актива:\n",
    "\n",
    "{NA; -248.0278; -276.0175; NA; -212.0006; -268.2976; NA; -231.3119; -197.912; -215.7413; -250.642; -220.5284; NA; NA; -242.2857; -246.5505; -214.4641; NA; -203.7093; -279.0159; -211.8785; -49.4419375000002; NA; -262.8364; -245.2903; NA; -215.1243; -251.4699; -221.7703; -209.7999; -246.8239; NA; -227.4166; -214.4409; -216.5032; -238.49; -242.4141; -274.4896; -220.7811; -221.8839; -230.4548; NA; -197.128; -258.3113; -224.7547; -265.6689; -234.5814; -256.0479; -206.5416; -204.9552; -271.2617; -236.6249; -213.9544; -241.7048; -244.5088; -277.764; -223.1571; -221.5657; -221.3712; NA; -251.1042; -240.3643; -195.9329; -271.6931; NA; -224.7657; -230.9118; -215.7749; -261.4521; -218.9398; -204.6412; -235.0248; -217.8646; -199.3423; -221.2092; -229.623; -242.6123; -229.0925; -213.9702; NA; -232.589; -264.9929; NA; -224.6155; -205.9726; -258.7099; -248.5855; NA; -228.2618; -205.2476; -275.622; -239.5357; -253.7256; -233.7747; NA; -220.4415; -230.2611; -235.0488; -242.9187; -222.0454; -218.7288; -268.186; -223.4011; NA; -210.5623; -217.6816; -236.2901; NA; -214.4802; -224.3734; -195.4733; -232.7526; -240.7299; -246.011; -238.7477; -235.8953; NA; NA; -180.4088; NA; -230.5308; -268.0138; -214.3368; -264.0056; -193.8945; -225.9057; -200.886; -219.7275; NA; -177.284; -224.7232; -258.5088; -244.3543; -222.2523; -205.1324; -211.6798; -241.3391; -237.4306; -228.4085; -226.4714; -229.3886; -222.4233; -238.0757; -195.788; NA; -256.4004; -199.6616; -235.6713; -250.9459; -230.2045; -215.1507; -265.8123; -224.9502; -258.7678; -213.3911; -231.4672; -196.1238; -208.6528; -230.4714; -273.7412; -192.9082; -267.0167; -244.4736; NA; -260.0262; -240.9879; -233.8253; -247.1632; -220.5742; -187.4717; -248.9057; NA; NA; -349.5041875; -237.2952; NA; -280.5154; -244.8634; -208.6032; -79.4481625000001; -211.1061; -231.7734; -203.7882; -269.69; -211.5684; -210.656; -238.9506; -235.8595; -235.0722; -245.5922; -276.6558; -211.3103; -230.8537; NA; -250.8397; -241.2494; NA; -197.6652; -220.8453; -236.977; -215.7695; NA; -236.1103; -242.5679; -232.3741; -251.3795; -236.3643; -218.7777; -233.0242; -271.6865; NA; NA; -241.7763; -202.76; -227.9378; -203.446; -248.5608; -224.928; -197.5271; -281.7362; -226.669; -240.559; -197.7924; NA; -249.6659; -214.9174; -250.2051; -230.6023; NA; NA; -211.4023; -248.4019; -238.787; NA; -188.4151; -222.2636; -221.1485; -221.9967; -228.9072; -232.6161; -241.741; -213.232; -208.1551; -214.3564; -219.8447; -223.4235; NA; -227.8187; -234.5629; -225.1414; -210.4707; -239.0968; -220.2137; -203.5226; -214.5777; NA; -213.9617; -240.2094; -254.4675; -256.271; NA; -180.2061; -241.3937; -229.0612; -187.9661; NA; -221.3916; -197.5445; -246.8638; -236.1858; NA; NA; -257.3654; -251.6351; -212.6862; -208.0422; -211.7181; -229.8571; -244.787; -242.2795; -205.2843; -258.5773; -226.1781; NA; -217.9504; -172.6741; -230.2364; -196.1476; -255.0827; -246.0399; -255.0632; -241.1097; -219.5709; -210.8271; -202.9631; -215.2989; -253.3749; -216.2569; -207.2811; -319.4979625}.\n",
    "\n",
    "\n",
    "\n",
    "Скопируйте и преобразуйте данные выборки в столбец \"A\" на лист \"Лист1\" Excel-файла и, используя Excel или R (RStudio), вычислите требуемые ниже величины:\n",
    "\n",
    "1. Введите объем исходной выборки\n",
    "\n",
    "Очистите исходную выборку от пропусков, обозначенных как \"NA\", преобразуйте её в вариационный ряд и работайте далее с полученным рядом.\n",
    "\n",
    "1. Введите объем очищенной от пропусков выборки\n",
    "\n",
    "2. Введите значение ошибки выборки\n",
    "\n",
    "3. Введите минимальное значение в вариационном ряду\n",
    "\n",
    "4. Введите максимальное значение в вариационном ряду\n",
    "\n",
    "5. Введите первую квартиль\n",
    "\n",
    "6. Введите медиану\n",
    "\n",
    "7. Введите третью квартиль\n",
    "\n",
    "8. Введите среднее значение\n",
    "\n",
    "9. Введите исправленную дисперсию\n",
    "\n",
    "10. Введите стандартное отклонение (несмещенное)\n",
    "\n",
    "11. Введите размах выборки\n",
    "\n",
    "12. Введите эксцесс (формула по умолчанию в Excel)\n",
    "\n",
    "13. Введите коэффициент асимметрии (формула по умолчанию в Excel)\n",
    "\n",
    "14. Введите левую границу 0,9-доверительного интервала для E(X)\n",
    "\n",
    "15. Введите правую границу 0,9-доверительного интервала для E(X)\n",
    "\n",
    "16. Введите нижнюю границу нормы\n",
    "\n",
    "17. Введите левую границу 0,9-доверительного интервала для Var(X)\n",
    "\n",
    "18. Введите правую границу 0,9-доверительного интервала для Var(X)\n",
    "\n",
    "Постройте на новом листе гистограмму частот и диаграмму «ящик с усами» для исходной выборки, очищенной от выбросов.\n",
    "\n",
    "\n",
    "\n"
   ],
   "metadata": {
    "id": "_lBllH5x2AXk"
   },
   "id": "_lBllH5x2AXk"
  },
  {
   "cell_type": "code",
   "execution_count": 61,
   "id": "591bf9b2",
   "metadata": {
    "id": "591bf9b2",
    "ExecuteTime": {
     "start_time": "2024-01-16T21:44:10.186776Z",
     "end_time": "2024-01-16T21:44:10.616078Z"
    }
   },
   "outputs": [],
   "source": [
    "import numpy as np\n",
    "import sympy as sp\n",
    "import scipy.stats as stats\n",
    "from scipy.stats import norm, t, f, chi2, norm\n",
    "from sklearn.metrics import mean_squared_error\n",
    "import matplotlib.pyplot as plt\n",
    "from scipy.stats import f_oneway\n",
    "import pandas as pd\n",
    "from math import sqrt\n",
    "from scipy.stats import ttest_1samp"
   ]
  },
  {
   "cell_type": "code",
   "execution_count": 62,
   "id": "63176178",
   "metadata": {
    "id": "63176178",
    "ExecuteTime": {
     "start_time": "2024-01-16T21:44:10.188783Z",
     "end_time": "2024-01-16T21:44:10.617079Z"
    }
   },
   "outputs": [],
   "source": [
    "sample_1 = [\"NA\", -248.0278, -276.0175, \"NA\", -212.0006, -268.2976, \"NA\", -231.3119, -197.912, -215.7413, -250.642, -220.5284, \"NA\", \"NA\", -242.2857, -246.5505, -214.4641, \"NA\", -203.7093, -279.0159, -211.8785, -49.4419375000002, \"NA\", -262.8364, -245.2903, \"NA\", -215.1243, -251.4699, -221.7703, -209.7999, -246.8239, \"NA\", -227.4166, -214.4409, -216.5032, -238.49, -242.4141, -274.4896, -220.7811, -221.8839, -230.4548, \"NA\", -197.128, -258.3113, -224.7547, -265.6689, -234.5814, -256.0479, -206.5416, -204.9552, -271.2617, -236.6249, -213.9544, -241.7048, -244.5088, -277.764, -223.1571, -221.5657, -221.3712, \"NA\", -251.1042, -240.3643, -195.9329, -271.6931, \"NA\", -224.7657, -230.9118, -215.7749, -261.4521, -218.9398, -204.6412, -235.0248, -217.8646, -199.3423, -221.2092, -229.623, -242.6123, -229.0925, -213.9702, \"NA\", -232.589, -264.9929, \"NA\", -224.6155, -205.9726, -258.7099, -248.5855, \"NA\", -228.2618, -205.2476, -275.622, -239.5357, -253.7256, -233.7747, \"NA\", -220.4415, -230.2611, -235.0488, -242.9187, -222.0454, -218.7288, -268.186, -223.4011, \"NA\", -210.5623, -217.6816, -236.2901, \"NA\", -214.4802, -224.3734, -195.4733, -232.7526, -240.7299, -246.011, -238.7477, -235.8953, \"NA\", \"NA\", -180.4088, \"NA\", -230.5308, -268.0138, -214.3368, -264.0056, -193.8945, -225.9057, -200.886, -219.7275, \"NA\", -177.284, -224.7232, -258.5088, -244.3543, -222.2523, -205.1324, -211.6798, -241.3391, -237.4306, -228.4085, -226.4714, -229.3886, -222.4233, -238.0757, -195.788, \"NA\", -256.4004, -199.6616, -235.6713, -250.9459, -230.2045, -215.1507, -265.8123, -224.9502, -258.7678, -213.3911, -231.4672, -196.1238, -208.6528, -230.4714, -273.7412, -192.9082, -267.0167, -244.4736, \"NA\", -260.0262, -240.9879, -233.8253, -247.1632, -220.5742, -187.4717, -248.9057, \"NA\", \"NA\", -349.5041875, -237.2952, \"NA\", -280.5154, -244.8634, -208.6032, -79.4481625000001, -211.1061, -231.7734, -203.7882, -269.69, -211.5684, -210.656, -238.9506, -235.8595, -235.0722, -245.5922, -276.6558, -211.3103, -230.8537, \"NA\", -250.8397, -241.2494, \"NA\", -197.6652, -220.8453, -236.977, -215.7695, \"NA\", -236.1103, -242.5679, -232.3741, -251.3795, -236.3643, -218.7777, -233.0242, -271.6865, \"NA\", \"NA\", -241.7763, -202.76, -227.9378, -203.446, -248.5608, -224.928, -197.5271, -281.7362, -226.669, -240.559, -197.7924, \"NA\", -249.6659, -214.9174, -250.2051, -230.6023, \"NA\", \"NA\", -211.4023, -248.4019, -238.787, \"NA\", -188.4151, -222.2636, -221.1485, -221.9967, -228.9072, -232.6161, -241.741, -213.232, -208.1551, -214.3564, -219.8447, -223.4235, \"NA\", -227.8187, -234.5629, -225.1414, -210.4707, -239.0968, -220.2137, -203.5226, -214.5777, \"NA\", -213.9617, -240.2094, -254.4675, -256.271, \"NA\", -180.2061, -241.3937, -229.0612, -187.9661, \"NA\", -221.3916, -197.5445, -246.8638, -236.1858, \"NA\", \"NA\", -257.3654, -251.6351, -212.6862, -208.0422, -211.7181, -229.8571, -244.787, -242.2795, -205.2843, -258.5773, -226.1781, \"NA\", -217.9504, -172.6741, -230.2364, -196.1476, -255.0827, -246.0399, -255.0632, -241.1097, -219.5709, -210.8271, -202.9631, -215.2989, -253.3749, -216.2569, -207.2811, -319.4979625]"
   ]
  },
  {
   "cell_type": "markdown",
   "id": "e0523240",
   "metadata": {
    "id": "e0523240"
   },
   "source": [
    "# 0. Введите объем исходной выборки\n"
   ]
  },
  {
   "cell_type": "code",
   "execution_count": 63,
   "id": "ff2cd10d",
   "metadata": {
    "colab": {
     "base_uri": "https://localhost:8080/"
    },
    "id": "ff2cd10d",
    "outputId": "d794d3ac-e9d2-44a2-defa-ad04f73be5d2",
    "ExecuteTime": {
     "start_time": "2024-01-16T21:44:10.199526Z",
     "end_time": "2024-01-16T21:44:10.617079Z"
    }
   },
   "outputs": [
    {
     "data": {
      "text/plain": "300"
     },
     "execution_count": 63,
     "metadata": {},
     "output_type": "execute_result"
    }
   ],
   "source": [
    "len(sample_1)"
   ]
  },
  {
   "cell_type": "markdown",
   "id": "35348c5d",
   "metadata": {
    "id": "35348c5d"
   },
   "source": [
    "# 1. Введите объем очищенной от пропусков выборки"
   ]
  },
  {
   "cell_type": "code",
   "execution_count": 64,
   "id": "0943bca7",
   "metadata": {
    "id": "0943bca7",
    "ExecuteTime": {
     "start_time": "2024-01-16T21:44:10.207625Z",
     "end_time": "2024-01-16T21:44:10.646210Z"
    }
   },
   "outputs": [],
   "source": [
    "sample_1_2 = []\n",
    "for elem in sample_1:\n",
    "    if elem != \"NA\":\n",
    "        sample_1_2.append(elem)\n",
    "sample_1_2 = np.sort(sample_1_2)"
   ]
  },
  {
   "cell_type": "code",
   "execution_count": 65,
   "id": "4b1a0b1a",
   "metadata": {
    "colab": {
     "base_uri": "https://localhost:8080/"
    },
    "id": "4b1a0b1a",
    "outputId": "5fbd9f17-3afe-434f-d1d8-31f119e1aab1",
    "ExecuteTime": {
     "start_time": "2024-01-16T21:44:10.210632Z",
     "end_time": "2024-01-16T21:44:10.890697Z"
    }
   },
   "outputs": [
    {
     "data": {
      "text/plain": "257"
     },
     "execution_count": 65,
     "metadata": {},
     "output_type": "execute_result"
    }
   ],
   "source": [
    "len(sample_1_2)"
   ]
  },
  {
   "cell_type": "markdown",
   "source": [
    "# 2.Введите значение ошибки выборки"
   ],
   "metadata": {
    "id": "1NcWQHOb27mk"
   },
   "id": "1NcWQHOb27mk"
  },
  {
   "cell_type": "markdown",
   "source": [
    "S = sqrt(1/n ∑[n,i=1] (Xi-‾X)^2)"
   ],
   "metadata": {
    "collapsed": false
   }
  },
  {
   "cell_type": "code",
   "source": [
    "# Оцениваем параметры распределения\n",
    "mean = np.mean(sample_1_2)\n",
    "std = np.std(sample_1_2)\n",
    "\n",
    "# Вычисляем предсказания модели (в данном случае среднее значение)\n",
    "predictions = np.full_like(sample_1_2, mean)\n",
    "\n",
    "# Вычисляем ошибку выборки (в данном случае среднеквадратичное отклонение)\n",
    "error = mean_squared_error(sample_1_2, predictions)\n",
    "print(error)"
   ],
   "metadata": {
    "id": "66BVfRtw2-HZ",
    "ExecuteTime": {
     "start_time": "2024-01-16T21:44:10.238590Z",
     "end_time": "2024-01-16T21:44:10.891697Z"
    }
   },
   "id": "66BVfRtw2-HZ",
   "execution_count": 66,
   "outputs": [
    {
     "name": "stdout",
     "output_type": "stream",
     "text": [
      "768.787422430166\n"
     ]
    }
   ]
  },
  {
   "cell_type": "markdown",
   "source": [
    "# 3.Введите минимальное значение в вариационном ряду"
   ],
   "metadata": {
    "id": "hqLmxD-K6U1c"
   },
   "id": "hqLmxD-K6U1c"
  },
  {
   "cell_type": "code",
   "source": [
    "print(min(sample_1_2))"
   ],
   "metadata": {
    "colab": {
     "base_uri": "https://localhost:8080/"
    },
    "id": "WXKPD7Oy6YME",
    "outputId": "f04ae30b-806d-4650-e7c1-379da617214e",
    "ExecuteTime": {
     "start_time": "2024-01-16T21:44:10.248619Z",
     "end_time": "2024-01-16T21:44:10.893695Z"
    }
   },
   "id": "WXKPD7Oy6YME",
   "execution_count": 67,
   "outputs": [
    {
     "name": "stdout",
     "output_type": "stream",
     "text": [
      "-349.5041875\n"
     ]
    }
   ]
  },
  {
   "cell_type": "markdown",
   "source": [
    "# 4.Введите максимальное значение в вариационном ряду"
   ],
   "metadata": {
    "id": "PTxaPOJk6jsq"
   },
   "id": "PTxaPOJk6jsq"
  },
  {
   "cell_type": "code",
   "source": [
    "print(max(sample_1_2))"
   ],
   "metadata": {
    "colab": {
     "base_uri": "https://localhost:8080/"
    },
    "id": "5K9sVaTP6lgn",
    "outputId": "5f986993-e0ef-4b6c-b5a1-0b9c64f404d1",
    "ExecuteTime": {
     "start_time": "2024-01-16T21:44:10.259444Z",
     "end_time": "2024-01-16T21:44:10.894695Z"
    }
   },
   "id": "5K9sVaTP6lgn",
   "execution_count": 68,
   "outputs": [
    {
     "name": "stdout",
     "output_type": "stream",
     "text": [
      "-49.4419375000002\n"
     ]
    }
   ]
  },
  {
   "cell_type": "markdown",
   "id": "d09a2dea",
   "metadata": {
    "id": "d09a2dea"
   },
   "source": [
    "# 5. Введите первую квартиль"
   ]
  },
  {
   "cell_type": "code",
   "execution_count": 69,
   "id": "c4b3ab25",
   "metadata": {
    "colab": {
     "base_uri": "https://localhost:8080/"
    },
    "id": "c4b3ab25",
    "outputId": "f6773eff-80b0-4ad9-e9e4-056e4324c9dd",
    "ExecuteTime": {
     "start_time": "2024-01-16T21:44:10.269450Z",
     "end_time": "2024-01-16T21:44:10.926711Z"
    }
   },
   "outputs": [
    {
     "data": {
      "text/plain": "-244.5088"
     },
     "execution_count": 69,
     "metadata": {},
     "output_type": "execute_result"
    }
   ],
   "source": [
    "np.quantile(sample_1_2, 0.25)"
   ]
  },
  {
   "cell_type": "markdown",
   "id": "72818640",
   "metadata": {
    "id": "72818640"
   },
   "source": [
    "# 6. Введите медиану\n"
   ]
  },
  {
   "cell_type": "code",
   "execution_count": 70,
   "id": "da2f2264",
   "metadata": {
    "colab": {
     "base_uri": "https://localhost:8080/"
    },
    "id": "da2f2264",
    "outputId": "2fc508f9-dadb-4a52-df31-3e3adf4dcefc",
    "ExecuteTime": {
     "start_time": "2024-01-16T21:44:10.280058Z",
     "end_time": "2024-01-16T21:44:10.928713Z"
    }
   },
   "outputs": [
    {
     "data": {
      "text/plain": "-229.623"
     },
     "execution_count": 70,
     "metadata": {},
     "output_type": "execute_result"
    }
   ],
   "source": [
    "np.quantile(sample_1_2, 0.5)"
   ]
  },
  {
   "cell_type": "markdown",
   "id": "18346711",
   "metadata": {
    "id": "18346711"
   },
   "source": [
    "# 7. Введите третью квартиль"
   ]
  },
  {
   "cell_type": "code",
   "execution_count": 71,
   "id": "d98e9c08",
   "metadata": {
    "colab": {
     "base_uri": "https://localhost:8080/"
    },
    "id": "d98e9c08",
    "outputId": "0b3e4b7a-d0a7-40b4-87c8-9f7a02b3eddf",
    "ExecuteTime": {
     "start_time": "2024-01-16T21:44:10.289935Z",
     "end_time": "2024-01-16T21:44:10.930713Z"
    }
   },
   "outputs": [
    {
     "data": {
      "text/plain": "-214.4409"
     },
     "execution_count": 71,
     "metadata": {},
     "output_type": "execute_result"
    }
   ],
   "source": [
    "np.quantile(sample_1_2, 0.75)"
   ]
  },
  {
   "cell_type": "markdown",
   "id": "03e7be92",
   "metadata": {
    "id": "03e7be92"
   },
   "source": [
    "# 8. Введите среднее значение"
   ]
  },
  {
   "cell_type": "code",
   "execution_count": 72,
   "id": "827e1dc1",
   "metadata": {
    "colab": {
     "base_uri": "https://localhost:8080/"
    },
    "id": "827e1dc1",
    "outputId": "e038ef65-bf0a-4863-b3f4-42986da01005",
    "ExecuteTime": {
     "start_time": "2024-01-16T21:44:10.300183Z",
     "end_time": "2024-01-16T21:44:10.941721Z"
    }
   },
   "outputs": [
    {
     "data": {
      "text/plain": "-229.55118190661477"
     },
     "execution_count": 72,
     "metadata": {},
     "output_type": "execute_result"
    }
   ],
   "source": [
    "np.sum(sample_1_2) / len(sample_1_2)"
   ]
  },
  {
   "cell_type": "code",
   "execution_count": 73,
   "id": "5d7f61ad",
   "metadata": {
    "colab": {
     "base_uri": "https://localhost:8080/"
    },
    "id": "5d7f61ad",
    "outputId": "2074f0a0-f532-4b70-dd56-fc913a568dda",
    "ExecuteTime": {
     "start_time": "2024-01-16T21:44:10.303696Z",
     "end_time": "2024-01-16T21:44:10.945723Z"
    }
   },
   "outputs": [
    {
     "name": "stdout",
     "output_type": "stream",
     "text": [
      "-229.55118190661477\n"
     ]
    }
   ],
   "source": [
    "mean_val = np.mean(sample_1_2)\n",
    "print(mean_val)"
   ]
  },
  {
   "cell_type": "markdown",
   "id": "6a77cbfa",
   "metadata": {
    "id": "6a77cbfa"
   },
   "source": [
    "# 9. Введите исправленную дисперсию\n",
    "S^2^ = 1/(n-1)*∑[n,i=1] (Xi-‾X)^2)"
   ]
  },
  {
   "cell_type": "code",
   "execution_count": 74,
   "id": "111a9d69",
   "metadata": {
    "colab": {
     "base_uri": "https://localhost:8080/"
    },
    "id": "111a9d69",
    "outputId": "4b55715d-8c10-419a-cf5f-df7e9a88bfb8",
    "ExecuteTime": {
     "start_time": "2024-01-16T21:44:10.310350Z",
     "end_time": "2024-01-16T21:44:10.945723Z"
    }
   },
   "outputs": [
    {
     "data": {
      "text/plain": "771.7904982990339"
     },
     "execution_count": 74,
     "metadata": {},
     "output_type": "execute_result"
    }
   ],
   "source": [
    "np.sum((sample_1_2 - mean_val) ** 2) / (len(sample_1_2) - 1)"
   ]
  },
  {
   "cell_type": "code",
   "execution_count": 75,
   "id": "0037b03c",
   "metadata": {
    "colab": {
     "base_uri": "https://localhost:8080/"
    },
    "id": "0037b03c",
    "outputId": "833bd75f-e82f-4111-b042-cbb12638da53",
    "ExecuteTime": {
     "start_time": "2024-01-16T21:44:10.315062Z",
     "end_time": "2024-01-16T21:44:10.946721Z"
    }
   },
   "outputs": [
    {
     "data": {
      "text/plain": "771.7904982990339"
     },
     "execution_count": 75,
     "metadata": {},
     "output_type": "execute_result"
    }
   ],
   "source": [
    "np.var(sample_1_2, ddof=1)"
   ]
  },
  {
   "cell_type": "markdown",
   "id": "b3124a94",
   "metadata": {
    "id": "b3124a94"
   },
   "source": [
    "# 10. Введите стандартное отклонение (несмещенное)"
   ]
  },
  {
   "cell_type": "code",
   "execution_count": 76,
   "id": "44f194c1",
   "metadata": {
    "colab": {
     "base_uri": "https://localhost:8080/"
    },
    "id": "44f194c1",
    "outputId": "06c2a654-0d18-42f4-c68f-8d11e04d96e6",
    "ExecuteTime": {
     "start_time": "2024-01-16T21:44:10.319565Z",
     "end_time": "2024-01-16T21:44:10.946721Z"
    }
   },
   "outputs": [
    {
     "data": {
      "text/plain": "'P.S.: Стандартное отклонение это корень из дисперсии'"
     },
     "execution_count": 76,
     "metadata": {},
     "output_type": "execute_result"
    }
   ],
   "source": [
    "(np.var(sample_1_2, ddof=1)) ** (1 / 2)\n",
    "'''P.S.: Стандартное отклонение это корень из дисперсии'''"
   ]
  },
  {
   "cell_type": "markdown",
   "source": [
    "# 11.Введите размах выборки"
   ],
   "metadata": {
    "id": "Bi4iws6JByJZ"
   },
   "id": "Bi4iws6JByJZ"
  },
  {
   "cell_type": "markdown",
   "source": [
    "max-min"
   ],
   "metadata": {
    "collapsed": false
   }
  },
  {
   "cell_type": "code",
   "execution_count": 77,
   "outputs": [
    {
     "data": {
      "text/plain": "300.0622499999998"
     },
     "execution_count": 77,
     "metadata": {},
     "output_type": "execute_result"
    }
   ],
   "source": [
    "np.ptp(sample_1_2)"
   ],
   "metadata": {
    "collapsed": false,
    "ExecuteTime": {
     "start_time": "2024-01-16T21:44:10.345098Z",
     "end_time": "2024-01-16T21:44:10.947723Z"
    }
   }
  },
  {
   "cell_type": "markdown",
   "source": [
    "# 12.Введите эксцесс"
   ],
   "metadata": {
    "id": "erTKDPIiCLiu"
   },
   "id": "erTKDPIiCLiu"
  },
  {
   "cell_type": "markdown",
   "source": [
    "Эксцесс = (1/n) * Σ((xᵢ - μ)⁴) / σ⁴ - 3\n",
    "\n",
    "где:\n",
    "- n - количество элементов в выборке\n",
    "- xᵢ - каждый элемент выборки\n",
    "- μ - среднее значение выборки\n",
    "- σ - стандартное отклонение выборки\n",
    "- Σ - сумма"
   ],
   "metadata": {
    "collapsed": false
   }
  },
  {
   "cell_type": "code",
   "source": [
    "stats.kurtosis(sample_1_2)"
   ],
   "metadata": {
    "colab": {
     "base_uri": "https://localhost:8080/"
    },
    "id": "6eA3TfacCSq5",
    "outputId": "6b0caed1-bbf0-4396-9bb4-77cb25bd1b88",
    "ExecuteTime": {
     "start_time": "2024-01-16T21:44:10.365742Z",
     "end_time": "2024-01-16T21:44:10.948869Z"
    }
   },
   "id": "6eA3TfacCSq5",
   "execution_count": 78,
   "outputs": [
    {
     "data": {
      "text/plain": "10.085630331421031"
     },
     "execution_count": 78,
     "metadata": {},
     "output_type": "execute_result"
    }
   ]
  },
  {
   "cell_type": "markdown",
   "source": [
    "# 13 Введите коэффициент асимметрии"
   ],
   "metadata": {
    "id": "8Np2xNd6CxAg"
   },
   "id": "8Np2xNd6CxAg"
  },
  {
   "cell_type": "markdown",
   "source": [
    "=СКОС в Excel"
   ],
   "metadata": {
    "collapsed": false
   }
  },
  {
   "cell_type": "code",
   "source": [
    "stats.skew(sample_1_2)"
   ],
   "metadata": {
    "colab": {
     "base_uri": "https://localhost:8080/"
    },
    "id": "KPPYKUzMCzll",
    "outputId": "027f2fda-b19d-4dce-9786-f050e6c39c3d",
    "ExecuteTime": {
     "start_time": "2024-01-16T21:44:10.394539Z",
     "end_time": "2024-01-16T21:44:10.950869Z"
    }
   },
   "id": "KPPYKUzMCzll",
   "execution_count": 79,
   "outputs": [
    {
     "data": {
      "text/plain": "1.1443039844439926"
     },
     "execution_count": 79,
     "metadata": {},
     "output_type": "execute_result"
    }
   ]
  },
  {
   "cell_type": "markdown",
   "id": "2da13e5f",
   "metadata": {
    "id": "2da13e5f"
   },
   "source": [
    "# 14. Введите левую границу 0,9-доверительного интервала для E(X)"
   ]
  },
  {
   "cell_type": "code",
   "execution_count": 80,
   "id": "5f4c6a9d",
   "metadata": {
    "colab": {
     "base_uri": "https://localhost:8080/"
    },
    "id": "5f4c6a9d",
    "outputId": "d27ec87d-d26b-4fa0-dd7e-3b7afe4d7bda",
    "ExecuteTime": {
     "start_time": "2024-01-16T21:44:10.408997Z",
     "end_time": "2024-01-16T21:44:10.963868Z"
    }
   },
   "outputs": [
    {
     "data": {
      "text/plain": "'- norm.isf(0) вернет значение, соответствующее вероятности попадания весьма крайнего значения случайной величины, что в случае нормального распределения равно минус бесконечности.\\n- norm.isf(1) вернет значение, соответствующее вероятности попадания случайной величины в границы распределения, что в случае нормального распределения также равно минус бесконечности.\\n- norm.isf(1/2) вернет значение, соответствующее медиане нормального распределения, что в данном случае будет равно 0.'"
     },
     "execution_count": 80,
     "metadata": {},
     "output_type": "execute_result"
    }
   ],
   "source": [
    "norm.isf(0), norm.isf(1), norm.isf(1 / 2)\n",
    "'''- norm.isf(0) вернет значение, соответствующее вероятности попадания весьма крайнего значения случайной величины, что в случае нормального распределения равно минус бесконечности.\n",
    "- norm.isf(1) вернет значение, соответствующее вероятности попадания случайной величины в границы распределения, что в случае нормального распределения также равно минус бесконечности.\n",
    "- norm.isf(1/2) вернет значение, соответствующее медиане нормального распределения, что в данном случае будет равно 0.'''"
   ]
  },
  {
   "cell_type": "code",
   "execution_count": 81,
   "id": "9f3fbdd9",
   "metadata": {
    "id": "9f3fbdd9",
    "ExecuteTime": {
     "start_time": "2024-01-16T21:44:10.414442Z",
     "end_time": "2024-01-16T21:44:10.964867Z"
    }
   },
   "outputs": [],
   "source": [
    "gamma = 0.9  #мы устанавливаем уровень значимости на уровне 0.99.\n",
    "alpha = 1 - gamma  #мы вычисляем уровень доверия, который в данном случае будет равен 0.1.\n",
    "n = len(sample_1_2)  #размер выборки."
   ]
  },
  {
   "cell_type": "code",
   "execution_count": 82,
   "id": "94ad7bc8",
   "metadata": {
    "id": "94ad7bc8",
    "ExecuteTime": {
     "start_time": "2024-01-16T21:44:10.417952Z",
     "end_time": "2024-01-16T21:44:10.964867Z"
    }
   },
   "outputs": [],
   "source": [
    "t_a_2 = t.isf(alpha / 2,\n",
    "              n - 1)  #используем функцию обратного накопленного распределения t-распределения, чтобы найти критическое значение для заданного уровня значимости и размера выборки."
   ]
  },
  {
   "cell_type": "code",
   "execution_count": 83,
   "id": "db38bd54",
   "metadata": {
    "id": "db38bd54",
    "ExecuteTime": {
     "start_time": "2024-01-16T21:44:10.424018Z",
     "end_time": "2024-01-16T21:44:10.964867Z"
    }
   },
   "outputs": [],
   "source": [
    "I_E_1 = mean_val - t_a_2 * (np.var(sample_1_2, ddof=1)) ** (1 / 2) / n ** (\n",
    "            1 / 2)  # мы вычисляем нижний предел доверительного интервала для среднего значения.\n",
    "I_E_2 = mean_val + t_a_2 * (np.var(sample_1_2, ddof=1)) ** (1 / 2) / n ** (\n",
    "            1 / 2)  #мы вычисляем верхний предел доверительного интервала для среднего значения."
   ]
  },
  {
   "cell_type": "code",
   "execution_count": 84,
   "id": "6aead83b",
   "metadata": {
    "id": "6aead83b",
    "outputId": "dd70066c-ae3a-498b-971e-0f431217b47f",
    "ExecuteTime": {
     "start_time": "2024-01-16T21:44:10.427528Z",
     "end_time": "2024-01-16T21:44:10.966866Z"
    }
   },
   "outputs": [
    {
     "data": {
      "text/plain": "-232.41196458738528"
     },
     "execution_count": 84,
     "metadata": {},
     "output_type": "execute_result"
    }
   ],
   "source": [
    "I_E_1  #вычисление нижнего предела доверительного интервала"
   ]
  },
  {
   "cell_type": "markdown",
   "id": "6dcf84ab",
   "metadata": {
    "id": "6dcf84ab"
   },
   "source": [
    "# 15. Введите правую границу 0,9-доверительного интервала для E(X)"
   ]
  },
  {
   "cell_type": "code",
   "execution_count": 115,
   "id": "ff43601a",
   "metadata": {
    "id": "ff43601a",
    "outputId": "af4b3783-5427-4173-ce1e-318fdba42756",
    "ExecuteTime": {
     "start_time": "2024-01-16T22:16:10.407061Z",
     "end_time": "2024-01-16T22:16:10.414656Z"
    }
   },
   "outputs": [
    {
     "data": {
      "text/plain": "-226.69039922584426"
     },
     "execution_count": 115,
     "metadata": {},
     "output_type": "execute_result"
    }
   ],
   "source": [
    "I_E_2"
   ]
  },
  {
   "cell_type": "markdown",
   "source": [
    "# 16. Введите нижнюю границу нормы"
   ],
   "metadata": {
    "id": "mNxV8YVSDTF3"
   },
   "id": "mNxV8YVSDTF3"
  },
  {
   "cell_type": "code",
   "source": [
    "mean = np.mean(sample_1_2)\n",
    "std = np.std(sample_1_2)\n",
    "\n",
    "lower_bound = mean - (std/2)\n",
    "upper_bound = mean + (std/2)\n",
    "\n",
    "print(lower_bound, upper_bound)"
   ],
   "metadata": {
    "colab": {
     "base_uri": "https://localhost:8080/"
    },
    "id": "I64GIIaQDVEZ",
    "outputId": "85197d7f-f1b9-4b59-d76a-81f344cfbe0b",
    "ExecuteTime": {
     "start_time": "2024-01-16T22:30:11.204696Z",
     "end_time": "2024-01-16T22:30:11.212216Z"
    }
   },
   "id": "I64GIIaQDVEZ",
   "execution_count": 142,
   "outputs": [
    {
     "name": "stdout",
     "output_type": "stream",
     "text": [
      "-243.41468996220956 -215.68767385101998\n"
     ]
    }
   ]
  },
  {
   "cell_type": "markdown",
   "id": "f99c1a26",
   "metadata": {
    "id": "f99c1a26"
   },
   "source": [
    "# 17. Введите левую границу 0,9- доверительного интервала для Var(X)"
   ]
  },
  {
   "cell_type": "code",
   "execution_count": 107,
   "id": "b71fd6d5",
   "metadata": {
    "id": "b71fd6d5",
    "ExecuteTime": {
     "start_time": "2024-01-16T21:46:35.287104Z",
     "end_time": "2024-01-16T21:46:35.295229Z"
    }
   },
   "outputs": [
    {
     "data": {
      "text/plain": "339.1579062362099"
     },
     "execution_count": 107,
     "metadata": {},
     "output_type": "execute_result"
    }
   ],
   "source": [
    "chi2_a_2_z_1 = chi2.isf(alpha / 2, n - 1)\n",
    "'''функция вычисления обратной функции выживания для распределения хи-квадрат.\n",
    "Эта строка кода вычисляет критическое значение для левого конца интервала доверия для дисперсии.\n",
    "alpha обычно представляет собой уровень значимости,\n",
    " а n-1 - количество степеней свободы (здесь n - размер выборки).'''\n",
    "chi2_a_2_z_2 = chi2.isf(1 - alpha / 2, n - 1)\n",
    "''' Эта строка кода вычисляет критическое значение для правого конца интервала доверия для дисперсии.'''\n",
    "\n"
   ]
  },
  {
   "cell_type": "code",
   "execution_count": 88,
   "id": "84acb480",
   "metadata": {
    "id": "84acb480",
    "ExecuteTime": {
     "start_time": "2024-01-16T21:44:10.455947Z",
     "end_time": "2024-01-16T21:44:10.972496Z"
    }
   },
   "outputs": [],
   "source": [
    "I_D_1 = (n - 1) * np.var(sample_1_2,\n",
    "                         ddof=1) / chi2_a_2_z_1  #Эта строка кода использует первое критическое значение для вычисления левой границы интервала для дисперсии."
   ]
  },
  {
   "cell_type": "code",
   "execution_count": 89,
   "id": "9e6b8acb",
   "metadata": {
    "id": "9e6b8acb",
    "ExecuteTime": {
     "start_time": "2024-01-16T21:44:10.459812Z",
     "end_time": "2024-01-16T21:44:10.972496Z"
    }
   },
   "outputs": [],
   "source": [
    "I_D_2 = (n - 1) * np.var(sample_1_2,\n",
    "                         ddof=1) / chi2_a_2_z_2  #Эта строка кода использует второе критическое значение для вычисления правой границы интервала для дисперсии."
   ]
  },
  {
   "cell_type": "code",
   "execution_count": 90,
   "id": "de4a5afa",
   "metadata": {
    "colab": {
     "base_uri": "https://localhost:8080/"
    },
    "id": "de4a5afa",
    "outputId": "7e214e07-9e34-4237-f643-ee1391e9eebc",
    "ExecuteTime": {
     "start_time": "2024-01-16T21:44:10.463323Z",
     "end_time": "2024-01-16T21:44:10.991497Z"
    }
   },
   "outputs": [
    {
     "data": {
      "text/plain": "671.3030665278154"
     },
     "execution_count": 90,
     "metadata": {},
     "output_type": "execute_result"
    }
   ],
   "source": [
    "I_D_1"
   ]
  },
  {
   "cell_type": "markdown",
   "id": "27aa3a84",
   "metadata": {
    "id": "27aa3a84"
   },
   "source": [
    "# 18. Введите правую границу 0,9-доверительного интервала для Var(X)"
   ]
  },
  {
   "cell_type": "code",
   "execution_count": 91,
   "id": "b9cd494e",
   "metadata": {
    "colab": {
     "base_uri": "https://localhost:8080/"
    },
    "id": "b9cd494e",
    "outputId": "637ac3e6-df49-4ecf-dbfb-e20b58f00adf",
    "ExecuteTime": {
     "start_time": "2024-01-16T21:44:10.467885Z",
     "end_time": "2024-01-16T21:44:10.992496Z"
    }
   },
   "outputs": [
    {
     "data": {
      "text/plain": "898.2777399407927"
     },
     "execution_count": 91,
     "metadata": {},
     "output_type": "execute_result"
    }
   ],
   "source": [
    "I_D_2"
   ]
  },
  {
   "cell_type": "markdown",
   "source": [
    "# Постройте на новом листе гистограмму частот и диаграмму «ящик с усами» для исходной выборки, очищенной от выбросов."
   ],
   "metadata": {
    "collapsed": false
   }
  },
  {
   "cell_type": "code",
   "execution_count": 92,
   "outputs": [
    {
     "data": {
      "text/plain": "<Figure size 640x480 with 1 Axes>",
      "image/png": "[encoded data removed]"
     },
     "metadata": {},
     "output_type": "display_data"
    },
    {
     "data": {
      "text/plain": "<Figure size 640x480 with 1 Axes>",
      "image/png": "[encoded data removed]"
     },
     "metadata": {},
     "output_type": "display_data"
    }
   ],
   "source": [
    "\n",
    "plt.hist(sample_1_2, bins=10)\n",
    "plt.title(\"Гистограмма частот\")\n",
    "plt.xlabel(\"Значение\")\n",
    "plt.ylabel(\"Частота\")\n",
    "plt.show()\n",
    "\n",
    "plt.boxplot(sample_1_2, showfliers=False)\n",
    "plt.title(\"Диаграмма «ящик с усами»\")\n",
    "plt.ylabel(\"Значение\")\n",
    "plt.show()\n"
   ],
   "metadata": {
    "collapsed": false,
    "ExecuteTime": {
     "start_time": "2024-01-16T21:44:10.490569Z",
     "end_time": "2024-01-16T21:44:11.013493Z"
    }
   }
  },
  {
   "cell_type": "markdown",
   "source": [
    "# Задание 2"
   ],
   "metadata": {
    "collapsed": false
   }
  },
  {
   "cell_type": "markdown",
   "source": [
    "По результатам социологического исследования ответы респондентов на определенный вопрос анкеты представлены в виде выборки:\n",
    "{Four; Five; Two; One; Two; NA; Four; Two; Thr; Five; One; Five; Two; One; One; NA; One; Two; Five; Two; One; Two; One; NA; One; Two; Two; Two; Two; Four; Five; Two; One; Thr; Thr; Two; One; Thr; Two; Two; Four; One; Two; NA; One; Two; Two; One; Thr; Two; One; One; One; Two; Four; Four; One; Two; NA; Two; Four; Two; Two; One; Five; One; Two; Five; One; NA; Two; One; Two; Two; Thr; NA; Thr; Two; Two; Thr; Two; Five; One; Four; Two; Two; One; Thr; NA; Two; Two; Five; Four; Thr; Five; Four; One; Two; Four; Thr; Five; Thr; Four; Two; NA; Two; Thr; One; Two; Two; One; Two; NA; Two; One; Two; Four; Thr; One; One; NA; Thr; One; Five; One; NA; Five; Four; Two; Two; One; Four; Five; Five; One; Thr; Four; Two; NA; Four; One; One; Two; Five; Two; Thr; One; Two; Two; Two; Two; Four; One; NA; Two; Four; Two; One; Thr; NA; Two; Five; Two; Four; Five; Two; Two; Two; One; Two; Thr; One; Five; One; Two; Two; Two; Two; One; Two; Two; One; Four; Thr; Two; Two; Five; Four; Five; Two; Two; Five; Two; Five; Four; One; Five; One; Thr; Two; NA; One; Two; Two; Four; Five; Two; Five; Two; Two; Two; Four; Two; Five; Two; Two; Thr; One; NA; Two; Two; Thr; One; Five; Two; Five; Four; Two; Thr; Four; One; Two; NA; NA; Five; Four; One; Two; One; Two; Five; Thr; NA; One; One; Two; One; Five; One; Thr; Two; One; Two; One; Five; Four; Four; Two; Five; One; One; NA; One; One; Thr; One; Two; Five; One; Two; Five; One; Two; One; Thr; Two; Four; Thr; Thr; NA; Four; Two; Two; Two; Four; NA; Two; Two; Two; Five; Five; Two; Two; Four; Four; Two; Four; Two; Four; NA}.\n",
    "\n",
    "\n",
    "\n",
    "Скопируйте и преобразуйте в столбец \"A\" данные выборки на новый лист Excel-файла.\n",
    "\n",
    "Используя Excel, очистите выборку от пропусков, обозначенных как \"NA\", и ответьте на следующие ниже вопросы.\n",
    "\n",
    "1. Введите объем очищенной от \"NA\" выборки\n",
    "\n",
    "2. Введите количество различных вариантов ответов респондентов, встречающиеся в очищенной выборке\n",
    "\n",
    "3. Введите количество респондентов, которые дали ответ \"Four\"\n",
    "\n",
    "4. Введите долю респондентов, которые дали ответ \"Four\"\n",
    "\n",
    "5. Введите левую границу 0,9-доверительного интервала для истинной доли \"Five\"\n",
    "\n",
    "6. Введите правую границу 0,9-доверительного интервала для истинной доли ответов \"Four\"\n",
    "\n",
    "7. Постройте на новом листе гистограмму для исходной выборки, очищенной от \"NA\" и выбросов."
   ],
   "metadata": {
    "collapsed": false
   }
  },
  {
   "cell_type": "code",
   "execution_count": 93,
   "outputs": [],
   "source": [
    "sample_2 = [\"Four\", \"Five\", \"Two\", \"One\", \"Two\", \"NA\", \"Four\", \"Two\", \"Thr\", \"Five\", \"One\", \"Five\", \"Two\", \"One\", \"One\",\n",
    "            \"NA\", \"One\", \"Two\", \"Five\", \"Two\", \"One\", \"Two\", \"One\", \"NA\", \"One\", \"Two\", \"Two\", \"Two\", \"Two\", \"Four\",\n",
    "            \"Five\", \"Two\", \"One\", \"Thr\", \"Thr\", \"Two\", \"One\", \"Thr\", \"Two\", \"Two\", \"Four\", \"One\", \"Two\", \"NA\", \"One\",\n",
    "            \"Two\", \"Two\", \"One\", \"Thr\", \"Two\", \"One\", \"One\", \"One\", \"Two\", \"Four\", \"Four\", \"One\", \"Two\", \"NA\", \"Two\",\n",
    "            \"Four\", \"Two\", \"Two\", \"One\", \"Five\", \"One\", \"Two\", \"Five\", \"One\", \"NA\", \"Two\", \"One\", \"Two\", \"Two\", \"Thr\",\n",
    "            \"NA\", \"Thr\", \"Two\", \"Two\", \"Thr\", \"Two\", \"Five\", \"One\", \"Four\", \"Two\", \"Two\", \"One\", \"Thr\", \"NA\", \"Two\",\n",
    "            \"Two\", \"Five\", \"Four\", \"Thr\", \"Five\", \"Four\", \"One\", \"Two\", \"Four\", \"Thr\", \"Five\", \"Thr\", \"Four\", \"Two\",\n",
    "            \"NA\", \"Two\", \"Thr\", \"One\", \"Two\", \"Two\", \"One\", \"Two\", \"NA\", \"Two\", \"One\", \"Two\", \"Four\", \"Thr\", \"One\",\n",
    "            \"One\", \"NA\", \"Thr\", \"One\", \"Five\", \"One\", \"NA\", \"Five\", \"Four\", \"Two\", \"Two\", \"One\", \"Four\", \"Five\", \"Five\",\n",
    "            \"One\", \"Thr\", \"Four\", \"Two\", \"NA\", \"Four\", \"One\", \"One\", \"Two\", \"Five\", \"Two\", \"Thr\", \"One\", \"Two\", \"Two\",\n",
    "            \"Two\", \"Two\", \"Four\", \"One\", \"NA\", \"Two\", \"Four\", \"Two\", \"One\", \"Thr\", \"NA\", \"Two\", \"Five\", \"Two\", \"Four\",\n",
    "            \"Five\", \"Two\", \"Two\", \"Two\", \"One\", \"Two\", \"Thr\", \"One\", \"Five\", \"One\", \"Two\", \"Two\", \"Two\", \"Two\", \"One\",\n",
    "            \"Two\", \"Two\", \"One\", \"Four\", \"Thr\", \"Two\", \"Two\", \"Five\", \"Four\", \"Five\", \"Two\", \"Two\", \"Five\", \"Two\",\n",
    "            \"Five\", \"Four\", \"One\", \"Five\", \"One\", \"Thr\", \"Two\", \"NA\", \"One\", \"Two\", \"Two\", \"Four\", \"Five\", \"Two\",\n",
    "            \"Five\", \"Two\", \"Two\", \"Two\", \"Four\", \"Two\", \"Five\", \"Two\", \"Two\", \"Thr\", \"One\", \"NA\", \"Two\", \"Two\", \"Thr\",\n",
    "            \"One\", \"Five\", \"Two\", \"Five\", \"Four\", \"Two\", \"Thr\", \"Four\", \"One\", \"Two\", \"NA\", \"NA\", \"Five\", \"Four\", \"One\",\n",
    "            \"Two\", \"One\", \"Two\", \"Five\", \"Thr\", \"NA\", \"One\", \"One\", \"Two\", \"One\", \"Five\", \"One\", \"Thr\", \"Two\", \"One\",\n",
    "            \"Two\", \"One\", \"Five\", \"Four\", \"Four\", \"Two\", \"Five\", \"One\", \"One\", \"NA\", \"One\", \"One\", \"Thr\", \"One\", \"Two\",\n",
    "            \"Five\", \"One\", \"Two\", \"Five\", \"One\", \"Two\", \"One\", \"Thr\", \"Two\", \"Four\", \"Thr\", \"Thr\", \"NA\", \"Four\", \"Two\",\n",
    "            \"Two\", \"Two\", \"Four\", \"NA\", \"Two\", \"Two\", \"Two\", \"Five\", \"Five\", \"Two\", \"Two\", \"Four\", \"Four\", \"Two\",\n",
    "            \"Four\", \"Two\", \"Four\", \"NA\"]"
   ],
   "metadata": {
    "collapsed": false,
    "ExecuteTime": {
     "start_time": "2024-01-16T21:44:10.623835Z",
     "end_time": "2024-01-16T21:44:11.013493Z"
    }
   }
  },
  {
   "cell_type": "markdown",
   "source": [
    "# 1. Введите объем очищенной от \"NA\" выборки"
   ],
   "metadata": {
    "collapsed": false
   }
  },
  {
   "cell_type": "code",
   "execution_count": 94,
   "id": "2d4900f0",
   "metadata": {
    "id": "2d4900f0",
    "ExecuteTime": {
     "start_time": "2024-01-16T21:44:10.632574Z",
     "end_time": "2024-01-16T21:44:11.013493Z"
    }
   },
   "outputs": [
    {
     "name": "stdout",
     "output_type": "stream",
     "text": [
      "276\n"
     ]
    }
   ],
   "source": [
    "sample_2_2 = []\n",
    "for elem in sample_2:\n",
    "    if elem != 'NA':\n",
    "        sample_2_2.append(elem)\n",
    "n = len(sample_2_2)\n",
    "sample_2_2 = np.array(sample_2_2)\n",
    "print(n)"
   ]
  },
  {
   "cell_type": "markdown",
   "source": [
    "# 2. Введите количество различных вариантов ответов респондентов, встречающиеся в очищенной выборке"
   ],
   "metadata": {
    "collapsed": false
   }
  },
  {
   "cell_type": "code",
   "execution_count": 95,
   "outputs": [
    {
     "name": "stdout",
     "output_type": "stream",
     "text": [
      "Количество различных вариантов ответов: 5\n"
     ]
    }
   ],
   "source": [
    "# Подсчитываем количество различных вариантов ответов\n",
    "unique_variants = np.unique(sample_2_2)\n",
    "num_variants = len(unique_variants)\n",
    "\n",
    "print(\"Количество различных вариантов ответов:\", num_variants)"
   ],
   "metadata": {
    "collapsed": false,
    "ExecuteTime": {
     "start_time": "2024-01-16T21:44:10.638694Z",
     "end_time": "2024-01-16T21:44:11.013493Z"
    }
   }
  },
  {
   "cell_type": "markdown",
   "source": [
    "# 3. Введите количество респондентов, которые дали ответ \"Four\""
   ],
   "metadata": {
    "collapsed": false
   }
  },
  {
   "cell_type": "code",
   "execution_count": 96,
   "outputs": [
    {
     "name": "stdout",
     "output_type": "stream",
     "text": [
      "Количество респондентов, которые дали ответ 'Four': 37\n"
     ]
    }
   ],
   "source": [
    "# Подсчитываем количество респондентов, которые дали ответ \"Four\"\n",
    "count_four = np.count_nonzero(sample_2_2 == \"Four\")\n",
    "\n",
    "print(\"Количество респондентов, которые дали ответ 'Four':\", count_four)"
   ],
   "metadata": {
    "collapsed": false,
    "ExecuteTime": {
     "start_time": "2024-01-16T21:44:10.642202Z",
     "end_time": "2024-01-16T21:44:11.013493Z"
    }
   }
  },
  {
   "cell_type": "markdown",
   "source": [
    "# 4. Введите долю респондентов, которые дали ответ \"Four\""
   ],
   "metadata": {
    "collapsed": false
   }
  },
  {
   "cell_type": "code",
   "execution_count": 97,
   "outputs": [
    {
     "name": "stdout",
     "output_type": "stream",
     "text": [
      "Доля респондентов, которые дали ответ \"Four\": 13.41 %\n"
     ]
    }
   ],
   "source": [
    "print('Доля респондентов, которые дали ответ \"Four\":', round(count_four / (n / 100), 2), '%')"
   ],
   "metadata": {
    "collapsed": false,
    "ExecuteTime": {
     "start_time": "2024-01-16T21:44:10.645208Z",
     "end_time": "2024-01-16T21:44:11.014492Z"
    }
   }
  },
  {
   "cell_type": "markdown",
   "source": [
    "# 5. Введите левую границу 0,9-доверительного интервала для истинной доли \"Five\""
   ],
   "metadata": {
    "collapsed": false
   }
  },
  {
   "cell_type": "code",
   "execution_count": 98,
   "outputs": [
    {
     "name": "stdout",
     "output_type": "stream",
     "text": [
      "Левая граница 0.9-доверительного интервала для истинной доли 'Five': 0.1\n"
     ]
    }
   ],
   "source": [
    "# (⁀p-Z(a/2)*sqrt((⁀p(1-⁀p))/n); ⁀p+Z(a/2)*sqrt((⁀p(1-⁀p))/n)) ; ⁀p = k/n; Приближённая интервальная оценка для вероятности p с доверительной вероятностью\n",
    "# Подсчитываем количество респондентов, которые дали ответ 'Five'\n",
    "count_five = np.count_nonzero(sample_2_2 == 'Five')\n",
    "\n",
    "# Вычисляем оценку доли для ответа 'Five'\n",
    "p_hat = count_five / n\n",
    "# Вычисляем стандартную ошибку\n",
    "stdev = np.sqrt((p_hat * (1 - p_hat)) / n)\n",
    "\n",
    "# Задаем уровень доверия\n",
    "confidence_level = 0.9\n",
    "\n",
    "# Рассчитываем значение Z-статистики\n",
    "z = norm.ppf(1 - (1 - confidence_level) / 2)\n",
    "\n",
    "# Вычисляем левую границу доверительного интервала для истинной доли \"Five\"\n",
    "left_interval = p_hat - z * stdev\n",
    "\n",
    "print(\"Левая граница 0.9-доверительного интервала для истинной доли 'Five':\", round(left_interval, 2))"
   ],
   "metadata": {
    "collapsed": false,
    "ExecuteTime": {
     "start_time": "2024-01-16T21:44:10.651723Z",
     "end_time": "2024-01-16T21:44:11.014492Z"
    }
   }
  },
  {
   "cell_type": "markdown",
   "source": [
    "# 6. Введите правую границу 0,9-доверительного интервала для истинной доли ответов \"Four\""
   ],
   "metadata": {
    "collapsed": false
   }
  },
  {
   "cell_type": "code",
   "execution_count": 99,
   "outputs": [
    {
     "name": "stdout",
     "output_type": "stream",
     "text": [
      "Правая граница 0.9-доверительного интервала для истинной доли 'Four': 0.17\n"
     ]
    }
   ],
   "source": [
    "# Подсчитываем количество респондентов, которые дали ответ 'Four'\n",
    "count_four = np.count_nonzero(sample_2_2 == 'Four')\n",
    "\n",
    "# Вычисляем оценку доли для ответа 'Four'\n",
    "p_hat = count_four / n\n",
    "\n",
    "# Вычисляем стандартную ошибку\n",
    "stdev = np.sqrt((p_hat * (1 - p_hat)) / n)\n",
    "\n",
    "# Задаем уровень доверия\n",
    "confidence_level = 0.9\n",
    "\n",
    "# Рассчитываем значение Z-статистики\n",
    "z = norm.ppf(1 - (1 - confidence_level) / 2)\n",
    "\n",
    "# Вычисляем правую границу доверительного интервала для истинной доли \"Four\"\n",
    "right_interval = p_hat + z * stdev\n",
    "\n",
    "print(\"Правая граница 0.9-доверительного интервала для истинной доли 'Four':\", round(right_interval, 2))"
   ],
   "metadata": {
    "collapsed": false,
    "ExecuteTime": {
     "start_time": "2024-01-16T21:44:10.656013Z",
     "end_time": "2024-01-16T21:44:11.014492Z"
    }
   }
  },
  {
   "cell_type": "markdown",
   "source": [
    "# 7. Постройте на новом листе гистограмму для исходной выборки, очищенной от \"NA\" и выбросов."
   ],
   "metadata": {
    "collapsed": false
   }
  },
  {
   "cell_type": "code",
   "execution_count": 100,
   "outputs": [
    {
     "data": {
      "text/plain": "<Figure size 800x600 with 1 Axes>",
      "image/png": "[encoded data removed]"
     },
     "metadata": {},
     "output_type": "display_data"
    }
   ],
   "source": [
    "# Создаем DataFrame\n",
    "df = pd.DataFrame(sample_2_2, columns=['Ответ'])\n",
    "\n",
    "# Строим гистограмму\n",
    "plt.figure(figsize=(8, 6))\n",
    "df['Ответ'].value_counts().plot(kind='bar')\n",
    "plt.xlabel('Ответ')\n",
    "plt.ylabel('Количество')\n",
    "plt.title('Гистограмма исходной выборки')\n",
    "plt.show()"
   ],
   "metadata": {
    "collapsed": false,
    "ExecuteTime": {
     "start_time": "2024-01-16T21:44:10.662069Z",
     "end_time": "2024-01-16T21:44:11.015491Z"
    }
   }
  },
  {
   "cell_type": "markdown",
   "source": [
    "# Задание 3\n"
   ],
   "metadata": {
    "collapsed": false
   }
  },
  {
   "cell_type": "markdown",
   "source": [
    " Ряд совместных наблюдений независимых нормально распределенных случайных величин X и Y, описывающих некоторый финансовый показатель двух фирм, задан двумерной выборкой:\n",
    "\n",
    "{(NA, 221.9404); (244.9, 199.2457); (271.4, 261.2842); (210, 210.2288); (213.8, 192.1073); (192.1073, 224.2862); (203.9, 192.6871); (237.3, 270.4459); (267.4, 181.7402); (219.8, 236.7081); (245.8, 265.4446); (265.8, 214.2336); (NA, 202.0054); (230.5, 247.8258); (195.8, 214.288); (249.6, 238.4614); (210.1, 213.3479); (226.2, 220.6614); (NA, 203.1024); (222.8, 238.1059); (240.4, 238.597); (226.1, 211.5634); (272.4, 236.0323); (NA, 205.1988); (207.5, 185.9292); (267.5, 191.7353); (191.9, 244.6757); (250.3, 281.4068); (224.8, 235.85); (245.1, 201.7793); (250, 205.8824); (217.1, 184.582); (211, 295.4028); (215.2, NA); (239.2, 220.6611); (281.4, 249.278); (203.7, NA); (214.5, 253.1391); (285.8, 212.1165); (238.1, 251.3834); (262.7, 222.5751); (192.1, 172.1679); (252, 259.5268); (208.4, 192.9326); (242.4, 267.9533); (231.1, 293.0328); (248.2, 257.6844); (230.5, 211.2362); (216.3, 227.0348); (198.6, 288.2548); (215.4, 181.0203); (237.5, 259.4564); (260.6, 236.1748); (225.8, 210.6577); (255.6, 226.419); (282.7, NA); (266.1, 282.7522); (242.5, 256.1357); (244.8, 216.7008); (175.1, 263.5541); (259.1, 254.8488); (246.4, 206.7216); (245.8, 218.5091); (276, 234.1304); (222.4, 293.9958); (260.9, 241.3345); (248.7, 240.9915); (217.3, 206.8097); (255.9, 255.2917); (211.8, 197.4867); (225.9, 200.1395); (238.1, 217.0186); (263.8, 166.5484); (253.4, 235.88); (261.5, 225.2916); (225, 206.2309); (227.6, 202.2515); (238.4, 223.2773); (219.1, 198.0522); (213.3, 250.1533); (176.8, 214.5436); (238.3, NA); (252.3, 218.0174); (NA, 241.0332); (222.2, 256.2377); (292.7, 205.4261); (221.3, 278.6294); (271.1, 183.1479); (247.9, 189.9609); (250.9, 220.9378); (229, NA); (159.1, 254.807); (251.1, 231.0567); (232.7, 222.3117); (203.5, 242.2319); (194.9, 197.4802); (218, 266.2529); (202.2, 226.8148); (187.4, 230.2827); (253.8, 170.7486); (229.1, NA); (210.3, 207.7116); (217.8, 258.1792); (228.6, 201.9987); (265.7, 231.807); (247.8, 212.0149); (209.4, NA); (203, 217.0157); (NA, 240.5836); (227.9, NA); (NA, 215.1281); (213.5, 266.1242); (284.7, NA); (254.2, 268.4275); (233.3, 266.1533); (258.9, 208.4654); (228.1, NA); (225.5, 217.6653); (253, 211.6221); (262, 261.2123); (259.9, 211.4); (NA, 271.5845); (244.8, 210.7494); (247.3, 207.6716); (226.1, 214.0212); (206, 204.7839); (173.6, 218.2791); (253, 239.6209); (207.3, NA); (211.5, 236.3517); (294.8, 244.4433); (243.9, 284.5863); (231.6, 221.7864); (242.2, 222.5481); (221.6, 179.9472); (233.4, 236.849); (227.5, 198.3705); (217.4, 208.2749); (NA, 250.8087); (201.7, 213.9586); (215.4, NA); (241.2, 249.9619); (251.2, 173.4413); (198.5, 177.3279); (252.2, 240.3333); (254.5, 178.9932); (NA, 193.2809); (225.7, 232.5474); (168.2, NA); (209.8, NA)}\n",
    "\n",
    "\n",
    "\n",
    "Скопируйте данную выборку на лист, преобразуйте ее в столбцы \"A\" и \"B\" соответственно для первой и второй фирмы. При этом связанные значения показателей должны располагаться в одной строке.\n",
    "\n",
    "Используя Excel или R (RStudio), очистите исходную выборку от пропущенных данных, обозначенных как \"NA\", и вычислите требуемые ниже величины:\n",
    "\n",
    "1. Введите выборочный коэффициент корреляции Пирсона между X и Y\n",
    "\n",
    "2. Найти значение P-value в проверке гипотезы о равенстве средних значений показателей фирм при альтернативной гипотезе о том, что среднее значение показателя больше у второй фирмы. На уровне значимости 0,01 проверить эту гипотезу.\n",
    "\n",
    "3. Найти значение P-value в проверке гипотезы о равенстве дисперсий показателей фирм при альтернативной гипотезе об их неравенстве. На уровне значимости 0,05 проверить эту гипотезу."
   ],
   "metadata": {
    "collapsed": false
   }
  },
  {
   "cell_type": "markdown",
   "source": [],
   "metadata": {
    "collapsed": false
   }
  },
  {
   "cell_type": "code",
   "execution_count": 101,
   "outputs": [],
   "source": [
    "sample_3 = [(\"NA\", 221.9404), (244.9, 199.2457), (271.4, 261.2842), (210, 210.2288), (213.8, 192.1073),(192.1073, 224.2862), (203.9, 192.6871), (237.3, 270.4459), (267.4, 181.7402), (219.8, 236.7081),(245.8, 265.4446), (265.8, 214.2336), (\"NA\", 202.0054), (230.5, 247.8258), (195.8, 214.288),(249.6, 238.4614), (210.1, 213.3479), (226.2, 220.6614), (\"NA\", 203.1024), (222.8, 238.1059),(240.4, 238.597), (226.1, 211.5634), (272.4, 236.0323), (\"NA\", 205.1988), (207.5, 185.9292),(267.5, 191.7353), (191.9, 244.6757), (250.3, 281.4068), (224.8, 235.85), (245.1, 201.7793),(250, 205.8824), (217.1, 184.582), (211, 295.4028), (215.2, \"NA\"), (239.2, 220.6611), (281.4, 249.278),(203.7, \"NA\"), (214.5, 253.1391), (285.8, 212.1165), (238.1, 251.3834), (262.7, 222.5751),(192.1, 172.1679), (252, 259.5268), (208.4, 192.9326), (242.4, 267.9533), (231.1, 293.0328),(248.2, 257.6844), (230.5, 211.2362), (216.3, 227.0348), (198.6, 288.2548), (215.4, 181.0203),(237.5, 259.4564), (260.6, 236.1748), (225.8, 210.6577), (255.6, 226.419), (282.7, \"NA\"), (266.1, 282.7522),(242.5, 256.1357), (244.8, 216.7008), (175.1, 263.5541), (259.1, 254.8488), (246.4, 206.7216),(245.8, 218.5091), (276, 234.1304), (222.4, 293.9958), (260.9, 241.3345), (248.7, 240.9915),(217.3, 206.8097), (255.9, 255.2917), (211.8, 197.4867), (225.9, 200.1395), (238.1, 217.0186),(263.8, 166.5484), (253.4, 235.88), (261.5, 225.2916), (225, 206.2309), (227.6, 202.2515),(238.4, 223.2773), (219.1, 198.0522), (213.3, 250.1533), (176.8, 214.5436), (238.3, \"NA\"),(252.3, 218.0174), (\"NA\", 241.0332), (222.2, 256.2377), (292.7, 205.4261), (221.3, 278.6294),(271.1, 183.1479), (247.9, 189.9609), (250.9, 220.9378), (229, \"NA\"), (159.1, 254.807), (251.1, 231.0567),(232.7, 222.3117), (203.5, 242.2319), (194.9, 197.4802), (218, 266.2529), (202.2, 226.8148),(187.4, 230.2827), (253.8, 170.7486), (229.1, \"NA\"), (210.3, 207.7116), (217.8, 258.1792),(228.6, 201.9987), (265.7, 231.807), (247.8, 212.0149), (209.4, \"NA\"), (203, 217.0157), (\"NA\", 240.5836),(227.9, \"NA\"), (\"NA\", 215.1281), (213.5, 266.1242), (284.7, \"NA\"), (254.2, 268.4275), (233.3, 266.1533),(258.9, 208.4654), (228.1, \"NA\"), (225.5, 217.6653), (253, 211.6221), (262, 261.2123), (259.9, 211.4),(\"NA\", 271.5845), (244.8, 210.7494), (247.3, 207.6716), (226.1, 214.0212), (206, 204.7839),(173.6, 218.2791), (253, 239.6209), (207.3, \"NA\"), (211.5, 236.3517), (294.8, 244.4433), (243.9, 284.5863),(231.6, 221.7864), (242.2, 222.5481), (221.6, 179.9472), (233.4, 236.849), (227.5, 198.3705),(217.4, 208.2749), (\"NA\", 250.8087), (201.7, 213.9586), (215.4, \"NA\"), (241.2, 249.9619), (251.2, 173.4413),(198.5, 177.3279), (252.2, 240.3333), (254.5, 178.9932), (\"NA\", 193.2809), (225.7, 232.5474), (168.2, \"NA\"),(209.8, \"NA\")]"
   ],
   "metadata": {
    "collapsed": false,
    "ExecuteTime": {
     "start_time": "2024-01-16T21:44:10.745540Z",
     "end_time": "2024-01-16T21:44:11.015491Z"
    }
   }
  },
  {
   "cell_type": "markdown",
   "source": [
    "# 1. Введите выборочный коэффициент корреляции Пирсона между X и Y"
   ],
   "metadata": {
    "collapsed": false
   }
  },
  {
   "cell_type": "code",
   "execution_count": 102,
   "outputs": [
    {
     "name": "stdout",
     "output_type": "stream",
     "text": [
      "Выборочный коэффициент корреляции Пирсона между X и Y 0.029\n"
     ]
    }
   ],
   "source": [
    "\n",
    "\n",
    " # Очищаем выборку от значений \"NA\"\n",
    "sample_3_1 = [val for val in sample_3 if val[0] != \"NA\" and val[1] != \"NA\"]\n",
    "\n",
    "# Для вычисления выборочного коэффициента корреляции Пирсона между X и Y воспользуемся следующей формулой:\n",
    "# Σ(n, i=1)\n",
    "# r = (Σ((Xi - X̄)(Yi - Ȳ))) / sqrt(Σ((Xi - X̄)²) * Σ((Yi - Ȳ)²))\n",
    "\n",
    "# Для начала создадим список значений X и Y из предоставленной выборки:\n",
    "X = [x for x, y in sample_3_1 if isinstance(x, (int, float)) and isinstance(y, (int, float))]\n",
    "Y = [y for x, y in sample_3_1 if isinstance(x, (int, float)) and isinstance(y, (int, float))]\n",
    "\n",
    "# Затем вычислим выборочные средние X̄ и Ȳ:\n",
    "X̄ = sum(X) / len(X)\n",
    "Ȳ = sum(Y) / len(Y)\n",
    "# И, наконец, посчитаем выборочный коэффициент корреляции Пирсона r:\n",
    "s_xy = sum((xi - X̄) * (yi - Ȳ) for xi, yi in zip(X, Y))\n",
    "s_x = sum((xi - X̄) ** 2 for xi in X)\n",
    "s_y = sum((yi - Ȳ) ** 2 for yi in Y)\n",
    "\n",
    "r = s_xy / (sqrt(s_x) * sqrt(s_y))\n",
    "\n",
    "print(\"Выборочный коэффициент корреляции Пирсона между X и Y\",round(r,3))\n"
   ],
   "metadata": {
    "collapsed": false,
    "ExecuteTime": {
     "start_time": "2024-01-16T21:44:10.747495Z",
     "end_time": "2024-01-16T21:44:11.015491Z"
    }
   }
  },
  {
   "cell_type": "markdown",
   "source": [
    "# 2. Найти значение P-value в проверке гипотезы о равенстве средних значений показателей фирм при альтернативной гипотезе о том, что среднее значение показателя больше у второй фирмы. На уровне значимости 0,01 проверить эту гипотезу."
   ],
   "metadata": {
    "collapsed": false
   }
  },
  {
   "cell_type": "code",
   "execution_count": 103,
   "outputs": [
    {
     "name": "stdout",
     "output_type": "stream",
     "text": [
      "P-value: 1.0\n",
      "Не отвергаем гипотезу H0\n"
     ]
    }
   ],
   "source": [
    "# Задаем уровень значимости\n",
    "alpha = 0.01\n",
    "# Очищаем выборку от значений \"NA\"\n",
    "sample_3_clean = [val[1] for val in sample_3_1]\n",
    "# Проводим t-тест\n",
    "t_statistic, p_value = ttest_1samp(sample_3_clean, np.mean(sample_3_clean))\n",
    "print(\"P-value:\", p_value)\n",
    "\n",
    "# Проверяем гипотезу\n",
    "if p_value < alpha:\n",
    "    print(\"Отвергаем гипотезу H0 в пользу H1\")\n",
    "else:\n",
    "    print(\"Не отвергаем гипотезу H0\")\n"
   ],
   "metadata": {
    "collapsed": false,
    "ExecuteTime": {
     "start_time": "2024-01-16T21:44:10.755408Z",
     "end_time": "2024-01-16T21:44:11.015491Z"
    }
   }
  },
  {
   "cell_type": "markdown",
   "source": [
    "# 3. Найти значение P-value в проверке гипотезы о равенстве дисперсий показателей фирм при альтернативной гипотезе об их неравенстве. На уровне значимости 0,05 проверить эту гипотезу."
   ],
   "metadata": {
    "collapsed": false
   }
  },
  {
   "cell_type": "code",
   "execution_count": 104,
   "outputs": [
    {
     "name": "stdout",
     "output_type": "stream",
     "text": [
      "P-value: 0.22167930001715302\n",
      "Не отвергаем гипотезу H0\n"
     ]
    }
   ],
   "source": [
    "from scipy import stats\n",
    "\n",
    "# Создаем две выборки из данных\n",
    "sample_1 = [x for x, _ in sample_3 if x != \"NA\"]\n",
    "sample_2 = [y for _, y in sample_3 if y != \"NA\"]\n",
    "\n",
    "# Выполняем тест Бартлетта (Мне похуй на это задание)\n",
    "statistic, p_value = stats.bartlett(sample_1, sample_2)\n",
    "\n",
    "# Выводим результаты\n",
    "print(\"P-value:\", p_value)\n",
    "if p_value < alpha:\n",
    "    print(\"Отвергаем гипотезу H0 в пользу H1\")\n",
    "else:\n",
    "    print(\"Не отвергаем гипотезу H0\")\n"
   ],
   "metadata": {
    "collapsed": false,
    "ExecuteTime": {
     "start_time": "2024-01-16T21:44:10.761002Z",
     "end_time": "2024-01-16T21:44:11.015491Z"
    }
   }
  }
 ],
 "metadata": {
  "kernelspec": {
   "display_name": "Python 3 (ipykernel)",
   "language": "python",
   "name": "python3"
  },
  "language_info": {
   "codemirror_mode": {
    "name": "ipython",
    "version": 3
   },
   "file_extension": ".py",
   "mimetype": "text/x-python",
   "name": "python",
   "nbconvert_exporter": "python",
   "pygments_lexer": "ipython3",
   "version": "3.10.9"
  },
  "colab": {
   "provenance": []
  }
 },
 "nbformat": 4,
 "nbformat_minor": 5
}
